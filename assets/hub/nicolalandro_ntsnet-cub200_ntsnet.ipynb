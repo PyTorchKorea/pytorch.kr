{
 "cells": [
  {
   "cell_type": "markdown",
   "id": "87dfb3d0",
   "metadata": {},
   "source": [
    "### This notebook is optionally accelerated with a GPU runtime.\n",
    "### If you would like to use this acceleration, please select the menu option \"Runtime\" -> \"Change runtime type\", select \"Hardware Accelerator\" -> \"GPU\" and click \"SAVE\"\n",
    "\n",
    "----------------------------------------------------------------------\n",
    "\n",
    "# ntsnet\n",
    "\n",
    "*Author: Moreno Caraffini and Nicola Landro*\n",
    "\n",
    "**classify birds using this fine-grained image classifier**\n",
    "\n",
    "<img src=\"https://pytorch.org/assets/images/nts-net.png\" alt=\"alt\" width=\"50%\"/>"
   ]
  },
  {
   "cell_type": "code",
   "execution_count": null,
   "id": "dd6a5278",
   "metadata": {},
   "outputs": [],
   "source": [
    "import torch\n",
    "model = torch.hub.load('nicolalandro/ntsnet-cub200', 'ntsnet', pretrained=True,\n",
    "                       **{'topN': 6, 'device':'cpu', 'num_classes': 200})"
   ]
  },
  {
   "cell_type": "markdown",
   "id": "667577d4",
   "metadata": {},
   "source": [
    "### 사용 예제"
   ]
  },
  {
   "cell_type": "code",
   "execution_count": null,
   "id": "bc40bae9",
   "metadata": {},
   "outputs": [],
   "source": [
    "from torchvision import transforms\n",
    "import torch\n",
    "import urllib\n",
    "from PIL import Image\n",
    "\n",
    "transform_test = transforms.Compose([\n",
    "    transforms.Resize((600, 600), Image.BILINEAR),\n",
    "    transforms.CenterCrop((448, 448)),\n",
    "    # transforms.RandomHorizontalFlip(),  # only if train\n",
    "    transforms.ToTensor(),\n",
    "    transforms.Normalize((0.485, 0.456, 0.406), (0.229, 0.224, 0.225)),\n",
    "])\n",
    "\n",
    "\n",
    "model = torch.hub.load('nicolalandro/ntsnet-cub200', 'ntsnet', pretrained=True, **{'topN': 6, 'device':'cpu', 'num_classes': 200})\n",
    "model.eval()\n",
    "\n",
    "url = 'https://raw.githubusercontent.com/nicolalandro/ntsnet-cub200/master/images/nts-net.png'\n",
    "img = Image.open(urllib.request.urlopen(url))\n",
    "scaled_img = transform_test(img)\n",
    "torch_images = scaled_img.unsqueeze(0)\n",
    "\n",
    "with torch.no_grad():\n",
    "    top_n_coordinates, concat_out, raw_logits, concat_logits, part_logits, top_n_index, top_n_prob = model(torch_images)\n",
    "\n",
    "    _, predict = torch.max(concat_logits, 1)\n",
    "    pred_id = predict.item()\n",
    "    print('bird class:', model.bird_classes[pred_id])"
   ]
  },
  {
   "cell_type": "markdown",
   "id": "85b1aca1",
   "metadata": {},
   "source": [
    "### 모델 설명\n",
    "이 모델은 세분화된 조류 데이터셋인 CUB200 2011 데이터셋으로 사전 학습된 nts-net입니다.\n",
    "\n",
    "### 참조\n",
    "[link](http://artelab.dista.uninsubria.it/res/research/papers/2019/2019-IVCNZ-Nawaz-Birds.pdf) - 여기에서 전체 내용을 읽을 수 있습니다."
   ]
  },
  {
   "cell_type": "code",
   "execution_count": null,
   "id": "74f014c2",
   "metadata": {
    "attributes": {
     "classes": [
      "bibtex"
     ],
     "id": ""
    }
   },
   "outputs": [],
   "source": [
    "@INPROCEEDINGS{Gallo:2019:IVCNZ,\n",
    "  author={Nawaz, Shah and Calefati, Alessandro and Caraffini, Moreno and Landro, Nicola and Gallo, Ignazio},\n",
    "  booktitle={2019 International Conference on Image and Vision Computing New Zealand (IVCNZ 2019)},\n",
    "  title={Are These Birds Similar: Learning Branched Networks for Fine-grained Representations},\n",
    "  year={2019},\n",
    "  month={Dec},\n",
    "}"
   ]
  }
 ],
 "metadata": {},
 "nbformat": 4,
 "nbformat_minor": 5
}
