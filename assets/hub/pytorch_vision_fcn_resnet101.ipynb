{
 "cells": [
  {
   "cell_type": "markdown",
   "id": "0309e5ad",
   "metadata": {},
   "source": [
    "### This notebook is optionally accelerated with a GPU runtime.\n",
    "### If you would like to use this acceleration, please select the menu option \"Runtime\" -> \"Change runtime type\", select \"Hardware Accelerator\" -> \"GPU\" and click \"SAVE\"\n",
    "\n",
    "----------------------------------------------------------------------\n",
    "\n",
    "# FCN\n",
    "\n",
    "*Author: Pytorch Team*\n",
    "\n",
    "**Fully-Convolutional Network model with ResNet-50 and ResNet-101 backbones**\n",
    "\n",
    "_ | _\n",
    "- | -\n",
    "![alt](https://pytorch.org/assets/images/deeplab1.png) | ![alt](https://pytorch.org/assets/images/fcn2.png)"
   ]
  },
  {
   "cell_type": "code",
   "execution_count": null,
   "id": "ead72902",
   "metadata": {},
   "outputs": [],
   "source": [
    "import torch\n",
    "model = torch.hub.load('pytorch/vision:v0.10.0', 'fcn_resnet50', pretrained=True)\n",
    "# or\n",
    "# model = torch.hub.load('pytorch/vision:v0.10.0', 'fcn_resnet101', pretrained=True)\n",
    "model.eval()"
   ]
  },
  {
   "cell_type": "markdown",
   "id": "ecdf95f8",
   "metadata": {},
   "source": [
    "모든 사전 훈련된 모델은 동일한 방식으로 정규화된 입력 이미지, 즉 `N`이 이미지 수이고, `H`와 `W`는 최소 `224`픽셀인 `(N, 3, H, W)`형태의 3채널 RGB 이미지의 미니 배치를 요구합니다. \n",
    "이미지를 `[0, 1]` 범위로 로드한 다음 `mean = [0.485, 0.456, 0.406]` 및 `std = [0.229, 0.224, 0.225]`를 사용하여 정규화해야 합니다.\n",
    "모델은 입력 텐서와 높이와 너비는 같지만 클래스가 21개인 텐서를 가진 `OrderedDict`를 반환합니다. `output['out']`에는 시멘틱 마스크가 포함되며 `output['aux']`에는 픽셀당 보조 손실 값이 포함됩니다. 추론 모드에서는 `output['aux']`이 유용하지 않습니다.\n",
    "그래서 `output['out']`의 크기는 `(N, 21, H, W)`입니다. 추가 설명서는 [여기](https://pytorch.org/vision/stable/models.html#object-detection-instance-segmentation-and-person-keypoint-detection)에서 찾을 수 있습니다."
   ]
  },
  {
   "cell_type": "code",
   "execution_count": null,
   "id": "ff3037e9",
   "metadata": {},
   "outputs": [],
   "source": [
    "# 파이토치 웹사이트에서 예제 이미지 다운로드\n",
    "import urllib\n",
    "url, filename = (\"https://github.com/pytorch/hub/raw/master/images/deeplab1.png\", \"deeplab1.png\")\n",
    "try: urllib.URLopener().retrieve(url, filename)\n",
    "except: urllib.request.urlretrieve(url, filename)"
   ]
  },
  {
   "cell_type": "code",
   "execution_count": null,
   "id": "8f75646b",
   "metadata": {},
   "outputs": [],
   "source": [
    "# 실행 예시 (torchvision 필요)\n",
    "from PIL import Image\n",
    "from torchvision import transforms\n",
    "input_image = Image.open(filename)\n",
    "input_image = input_image.convert(\"RGB\")\n",
    "preprocess = transforms.Compose([\n",
    "    transforms.ToTensor(),\n",
    "    transforms.Normalize(mean=[0.485, 0.456, 0.406], std=[0.229, 0.224, 0.225]),\n",
    "])\n",
    "\n",
    "input_tensor = preprocess(input_image)\n",
    "input_batch = input_tensor.unsqueeze(0) # 모델에서 요구되는 미니배치 생성\n",
    "\n",
    "# 가능하다면 속도를 위해 입력과 모델을 GPU로 옮깁니다\n",
    "if torch.cuda.is_available():\n",
    "    input_batch = input_batch.to('cuda')\n",
    "    model.to('cuda')\n",
    "\n",
    "with torch.no_grad():\n",
    "    output = model(input_batch)['out'][0]\n",
    "output_predictions = output.argmax(0)"
   ]
  },
  {
   "cell_type": "markdown",
   "id": "66c94178",
   "metadata": {},
   "source": [
    "여기서의 출력 형태는 `(21, H, W)`이며, 각 위치에는 각 클래스의 예측에 해당하는 정규화되지 않은 확률이 있습니다. 각 클래스의 최대 예측을 가져온 다음 이를 다운스트림 작업에 사용하려면 `output_propertions = output.slmax(0)`를 수행합니다. 다음은 각 클래스에 할당된 각 색상과 함께 예측을 표시하는 작은 토막글 입니다(왼쪽의 시각화 이미지 참조)."
   ]
  },
  {
   "cell_type": "code",
   "execution_count": null,
   "id": "dc52f8b9",
   "metadata": {},
   "outputs": [],
   "source": [
    "# 각 클래스에 대한 색상을 선택하여 색상 팔레트를 만듭니다.\n",
    "palette = torch.tensor([2 ** 25 - 1, 2 ** 15 - 1, 2 ** 21 - 1])\n",
    "colors = torch.as_tensor([i for i in range(21)])[:, None] * palette\n",
    "colors = (colors % 255).numpy().astype(\"uint8\")\n",
    "\n",
    "# 각 색상의 21개 클래스의 시멘틱 세그멘테이션 예측을 그림으로 표시합니다.\n",
    "r = Image.fromarray(output_predictions.byte().cpu().numpy()).resize(input_image.size)\n",
    "r.putpalette(colors)\n",
    "\n",
    "import matplotlib.pyplot as plt\n",
    "plt.imshow(r)\n",
    "# plt.show()"
   ]
  },
  {
   "cell_type": "markdown",
   "id": "43fae975",
   "metadata": {},
   "source": [
    "### 모델 설명\n",
    "\n",
    "FCN-ResNet은 ResNet-50 또는 ResNet-101 백본을 사용하여 완전 컨볼루션 네트워크 모델로 구성됩니다. 사전 훈련된 모델은 Pascal VOC 데이터 세트에 존재하는 20개 범주에 대한 COCO 2017의 하위 집합에 대해 훈련 되었습니다.\n",
    "\n",
    "COCO val 2017 데이터셋에서 평가된 사전 훈련된 모델의 정확성은 아래에 나열되어 있습니다.\n",
    "\n",
    "| Model structure |   Mean IOU  | Global Pixelwise Accuracy |\n",
    "| --------------- | ----------- | --------------------------|\n",
    "|  fcn_resnet50   |   60.5      |   91.4                    |\n",
    "|  fcn_resnet101  |   63.7      |   91.9                    |\n",
    "\n",
    "### Resources\n",
    "\n",
    " - [Fully Convolutional Networks for Semantic Segmentation](https://arxiv.org/abs/1605.06211)"
   ]
  }
 ],
 "metadata": {},
 "nbformat": 4,
 "nbformat_minor": 5
}
