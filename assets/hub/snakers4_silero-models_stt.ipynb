{
 "cells": [
  {
   "cell_type": "markdown",
   "id": "b8dbe7b7",
   "metadata": {},
   "source": [
    "### This notebook is optionally accelerated with a GPU runtime.\n",
    "### If you would like to use this acceleration, please select the menu option \"Runtime\" -> \"Change runtime type\", select \"Hardware Accelerator\" -> \"GPU\" and click \"SAVE\"\n",
    "\n",
    "----------------------------------------------------------------------\n",
    "\n",
    "# Silero Speech-To-Text Models\n",
    "\n",
    "*Author: Silero AI Team*\n",
    "\n",
    "**A set of compact enterprise-grade pre-trained STT Models for multiple languages.**\n",
    "\n",
    "_ | _\n",
    "- | -\n",
    "![alt](https://pytorch.org/assets/images/silero_stt_model.jpg) | ![alt](https://pytorch.org/assets/images/silero_imagenet_moment.png)"
   ]
  },
  {
   "cell_type": "code",
   "execution_count": null,
   "id": "bc4f6a5b",
   "metadata": {},
   "outputs": [],
   "source": [
    "%%bash\n",
    "# PyTorch의 적절한 버전이 이미 설치되어 있다고 가정합니다.\n",
    "pip install -q torchaudio omegaconf soundfile"
   ]
  },
  {
   "cell_type": "code",
   "execution_count": null,
   "id": "aba36403",
   "metadata": {},
   "outputs": [],
   "source": [
    "import torch\n",
    "import zipfile\n",
    "import torchaudio\n",
    "from glob import glob\n",
    "\n",
    "device = torch.device('cpu')  # gpu에서도 잘 돌아가지만, cpu에서도 충분히 빠릅니다.\n",
    "\n",
    "model, decoder, utils = torch.hub.load(repo_or_dir='snakers4/silero-models',\n",
    "                                       model='silero_stt',\n",
    "                                       language='en', # 'de', 'es'도 사용 가능\n",
    "                                       device=device)\n",
    "(read_batch, split_into_batches,\n",
    " read_audio, prepare_model_input) = utils  # 자세한 내용은 함수 시그니처(function signature)를 참조하세요.\n",
    "\n",
    "# TorchAudio와 호환되는 형식(사운드 파일 백엔드)중 하나의 파일 다운로드\n",
    "torch.hub.download_url_to_file('https://opus-codec.org/static/examples/samples/speech_orig.wav',\n",
    "                               dst ='speech_orig.wav', progress=True)\n",
    "test_files = glob('speech_orig.wav')\n",
    "batches = split_into_batches(test_files, batch_size=10)\n",
    "input = prepare_model_input(read_batch(batches[0]),\n",
    "                            device=device)\n",
    "\n",
    "output = model(input)\n",
    "for example in output:\n",
    "    print(decoder(example.cpu()))"
   ]
  },
  {
   "cell_type": "markdown",
   "id": "e4e2ae6a",
   "metadata": {},
   "source": [
    "### 모델 설명\n",
    "\n",
    "Silero Speech-To-Text 모델은 일반적으로 사용되는 여러 언어에 대해 소형 폼 팩터 형태로 엔터프라이즈급 STT를 제공합니다. 기존 ASR 모델과 달리 다양한 방언, 코덱, 도메인, 노이즈, 낮은 샘플링 속도에 강인합니다(단순화를 위해 오디오는 16kHz로 다시 샘플링해야 함). 모델은 샘플 형태의 정규화된 오디오(즉, [-1, 1] 범위로의 정규화를 제외한 어떤 전처리 없이)와 토큰 확률이 있는 출력 프레임을 사용합니다. 단순화를 위해 디코더 도구를 제공합니다. 모델 자체에 포함할 수 있지만 자막이 결합된 모듈은, 특정한 내보내기 상황에서 레이블같은 모델의 생성물을 저장할 때 문제가 있었습니다.\n",
    "\n",
    "Speech에서 Open-STT와 Silero Models에 대한 노력이 ImageNet 같은 순간에 다가가길 바랍니다.\n",
    "\n",
    "### 지원되는 언어 및 형식\n",
    "\n",
    "지원되는 언어는 다음과 같습니다.\n",
    "\n",
    "- English\n",
    "- German\n",
    "- Spanish\n",
    "\n",
    "항상 최신 지원 언어 목록을 보려면 [repo](https://github.com/snakers4/silero-models)를 방문하여 사용 가능한 체크포인트에 대한 `yml` [file](https://github.com/snakers4/silero-models/blob/master/models.yml)을 확인하십시오 .\n",
    "To see the always up-to-date language list, please visit our [repo](https://github.com/snakers4/silero-models) and see the `yml` [file](https://github.com/snakers4/silero-models/blob/master/models.yml) for all available checkpoints.\n",
    "\n",
    "### 추가 예제 및 벤치마크\n",
    "\n",
    "추가 예제 및 기타 모델 형식을 보려면 이 [link](https://github.com/snakers4/silero-models)를 방문하십시오. 품질 및 성능 벤치마크는 [wiki](https://github.com/snakers4/silero-models/wiki)를 참조하십시오. 관련 자료는 수시로 업데이트됩니다.\n",
    "\n",
    "### 참고문헌\n",
    "\n",
    "- [Silero Models](https://github.com/snakers4/silero-models)\n",
    "- [Alexander Veysov, \"Toward's an ImageNet Moment for Speech-to-Text\", The Gradient, 2020](https://thegradient.pub/towards-an-imagenet-moment-for-speech-to-text/)\n",
    "- [Alexander Veysov, \"A Speech-To-Text Practitioner’s Criticisms of Industry and Academia\", The Gradient, 2020](https://thegradient.pub/a-speech-to-text-practitioners-criticisms-of-industry-and-academia/)"
   ]
  }
 ],
 "metadata": {},
 "nbformat": 4,
 "nbformat_minor": 5
}
