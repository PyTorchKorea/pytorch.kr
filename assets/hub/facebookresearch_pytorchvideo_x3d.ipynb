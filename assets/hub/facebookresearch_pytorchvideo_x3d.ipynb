{
 "cells": [
  {
   "cell_type": "markdown",
   "id": "37ef823f",
   "metadata": {},
   "source": [
    "# X3D\n",
    "\n",
    "*Author: FAIR PyTorchVideo*\n",
    "\n",
    "**X3D networks pretrained on the Kinetics 400 dataset**\n",
    "\n",
    "\n",
    "### 사용 예시\n",
    "\n",
    "#### Imports\n",
    "\n",
    "모델 불러오기:"
   ]
  },
  {
   "cell_type": "code",
   "execution_count": null,
   "id": "a3ee5c81",
   "metadata": {},
   "outputs": [],
   "source": [
    "import torch\n",
    "# `x3d_s` 모델 선택\n",
    "model_name = 'x3d_s'\n",
    "model = torch.hub.load('facebookresearch/pytorchvideo', model_name, pretrained=True)"
   ]
  },
  {
   "cell_type": "markdown",
   "id": "74719ea4",
   "metadata": {},
   "source": [
    "나머지 함수들 불러오기:"
   ]
  },
  {
   "cell_type": "code",
   "execution_count": null,
   "id": "1f0899fc",
   "metadata": {},
   "outputs": [],
   "source": [
    "import json\n",
    "import urllib\n",
    "from pytorchvideo.data.encoded_video import EncodedVideo\n",
    "\n",
    "from torchvision.transforms import Compose, Lambda\n",
    "from torchvision.transforms._transforms_video import (\n",
    "    CenterCropVideo,\n",
    "    NormalizeVideo,\n",
    ")\n",
    "from pytorchvideo.transforms import (\n",
    "    ApplyTransformToKey,\n",
    "    ShortSideScale,\n",
    "    UniformTemporalSubsample\n",
    ")"
   ]
  },
  {
   "cell_type": "markdown",
   "id": "5b418b9e",
   "metadata": {},
   "source": [
    "#### 셋업\n",
    "\n",
    "모델을 평가 모드로 설정하고 원하는 디바이스 방식을 선택합니다."
   ]
  },
  {
   "cell_type": "code",
   "execution_count": null,
   "id": "ef674b00",
   "metadata": {},
   "outputs": [],
   "source": [
    "# GPU 또는 CPU 방식을 설정합니다.\n",
    "device = \"cpu\"\n",
    "model = model.eval()\n",
    "model = model.to(device)"
   ]
  },
  {
   "cell_type": "markdown",
   "id": "5e7161d2",
   "metadata": {},
   "source": [
    "토치 허브 모델이 훈련된 Kinetics 400 데이터셋에 대해 ID에서의 레이블 매핑 정보를 다운로드합니다. 이는 예측된 클래스 ID에서 카테고리 레이블 이름을 가져오는데 사용됩니다."
   ]
  },
  {
   "cell_type": "code",
   "execution_count": null,
   "id": "82c7f501",
   "metadata": {},
   "outputs": [],
   "source": [
    "json_url = \"https://dl.fbaipublicfiles.com/pyslowfast/dataset/class_names/kinetics_classnames.json\"\n",
    "json_filename = \"kinetics_classnames.json\"\n",
    "try: urllib.URLopener().retrieve(json_url, json_filename)\n",
    "except: urllib.request.urlretrieve(json_url, json_filename)"
   ]
  },
  {
   "cell_type": "code",
   "execution_count": null,
   "id": "e2d2b35d",
   "metadata": {},
   "outputs": [],
   "source": [
    "with open(json_filename, \"r\") as f:\n",
    "    kinetics_classnames = json.load(f)\n",
    "\n",
    "# 레이블 이름 매핑에 대한 ID 만들기\n",
    "kinetics_id_to_classname = {}\n",
    "for k, v in kinetics_classnames.items():\n",
    "    kinetics_id_to_classname[v] = str(k).replace('\"', \"\")"
   ]
  },
  {
   "cell_type": "markdown",
   "id": "5cddccf9",
   "metadata": {},
   "source": [
    "#### 입력 형태에 대한 정의"
   ]
  },
  {
   "cell_type": "code",
   "execution_count": null,
   "id": "89357ad6",
   "metadata": {},
   "outputs": [],
   "source": [
    "mean = [0.45, 0.45, 0.45]\n",
    "std = [0.225, 0.225, 0.225]\n",
    "frames_per_second = 30\n",
    "model_transform_params  = {\n",
    "    \"x3d_xs\": {\n",
    "        \"side_size\": 182,\n",
    "        \"crop_size\": 182,\n",
    "        \"num_frames\": 4,\n",
    "        \"sampling_rate\": 12,\n",
    "    },\n",
    "    \"x3d_s\": {\n",
    "        \"side_size\": 182,\n",
    "        \"crop_size\": 182,\n",
    "        \"num_frames\": 13,\n",
    "        \"sampling_rate\": 6,\n",
    "    },\n",
    "    \"x3d_m\": {\n",
    "        \"side_size\": 256,\n",
    "        \"crop_size\": 256,\n",
    "        \"num_frames\": 16,\n",
    "        \"sampling_rate\": 5,\n",
    "    }\n",
    "}\n",
    "\n",
    "# 모델에 맞는 변환 매개변수 가져오기\n",
    "transform_params = model_transform_params[model_name]\n",
    "\n",
    "# 이 변환은 slow_R50 모델에 한정됩니다.\n",
    "transform =  ApplyTransformToKey(\n",
    "    key=\"video\",\n",
    "    transform=Compose(\n",
    "        [\n",
    "            UniformTemporalSubsample(transform_params[\"num_frames\"]),\n",
    "            Lambda(lambda x: x/255.0),\n",
    "            NormalizeVideo(mean, std),\n",
    "            ShortSideScale(size=transform_params[\"side_size\"]),\n",
    "            CenterCropVideo(\n",
    "                crop_size=(transform_params[\"crop_size\"], transform_params[\"crop_size\"])\n",
    "            )\n",
    "        ]\n",
    "    ),\n",
    ")\n",
    "\n",
    "# 입력 클립의 길이는 모델에 따라 달라집니다.\n",
    "clip_duration = (transform_params[\"num_frames\"] * transform_params[\"sampling_rate\"])/frames_per_second"
   ]
  },
  {
   "cell_type": "markdown",
   "id": "6c9848ee",
   "metadata": {},
   "source": [
    "#### 추론 실행\n",
    "\n",
    "예제 영상을 다운로드합니다."
   ]
  },
  {
   "cell_type": "code",
   "execution_count": null,
   "id": "95b36dbc",
   "metadata": {},
   "outputs": [],
   "source": [
    "url_link = \"https://dl.fbaipublicfiles.com/pytorchvideo/projects/archery.mp4\"\n",
    "video_path = 'archery.mp4'\n",
    "try: urllib.URLopener().retrieve(url_link, video_path)\n",
    "except: urllib.request.urlretrieve(url_link, video_path)"
   ]
  },
  {
   "cell_type": "markdown",
   "id": "73809570",
   "metadata": {},
   "source": [
    "영상을 불러오고 모델에 필요한 입력 형식으로 변환합니다."
   ]
  },
  {
   "cell_type": "code",
   "execution_count": null,
   "id": "2ed0296c",
   "metadata": {},
   "outputs": [],
   "source": [
    "# 시작 및 종료 기간을 지정하여 불러올 클립의 기간을 선택합니다.\n",
    "# start_sec는 영상에서 행동이 시작되는 위치와 일치해야합니다.\n",
    "start_sec = 0\n",
    "end_sec = start_sec + clip_duration\n",
    "\n",
    "# EncodedVideo helper 클래스를 초기화하고 영상을 불러옵니다.\n",
    "video = EncodedVideo.from_path(video_path)\n",
    "\n",
    "# 원하는 클립을 불러옵니다.\n",
    "video_data = video.get_clip(start_sec=start_sec, end_sec=end_sec)\n",
    "\n",
    "# 영상 입력을 정규화하기 위해 변형(transform) 함수를 적용합니다.\n",
    "video_data = transform(video_data)\n",
    "\n",
    "# 입력을 원하는 디바이스로 이동합니다.\n",
    "inputs = video_data[\"video\"]\n",
    "inputs = inputs.to(device)"
   ]
  },
  {
   "cell_type": "markdown",
   "id": "d4e942ff",
   "metadata": {},
   "source": [
    "#### 예측값 구하기"
   ]
  },
  {
   "cell_type": "code",
   "execution_count": null,
   "id": "6e5e0640",
   "metadata": {},
   "outputs": [],
   "source": [
    "# 모델을 통해 입력클립을 전달합니다.\n",
    "preds = model(inputs[None, ...])\n",
    "\n",
    "# 예측된 클래스를 가져옵니다.\n",
    "post_act = torch.nn.Softmax(dim=1)\n",
    "preds = post_act(preds)\n",
    "pred_classes = preds.topk(k=5).indices[0]\n",
    "\n",
    "# 예측된 클래스를 레이블 이름에 매핑합니다.\n",
    "pred_class_names = [kinetics_id_to_classname[int(i)] for i in pred_classes]\n",
    "print(\"Top 5 predicted labels: %s\" % \", \".join(pred_class_names))"
   ]
  },
  {
   "cell_type": "markdown",
   "id": "fd2efd20",
   "metadata": {},
   "source": [
    "### 모델 설명\n",
    "X3D 모델 아키텍처는 Kinetics 데이터셋에 대해 사전 훈련된 [1]을 기반으로 합니다.\n",
    "\n",
    "| arch | depth | frame length x sample rate | top 1 | top 5 | Flops (G) | Params (M) |\n",
    "| --------------- | ----------- | ----------- | ----------- | ----------- | ----------- |  ----------- | ----------- |\n",
    "| X3D      | XS    | 4x12                       | 69.12 | 88.63 | 0.91      | 3.79     |\n",
    "| X3D      | S     | 13x6                       | 73.33 | 91.27 | 2.96      | 3.79     |\n",
    "| X3D      | M     | 16x5                       | 75.94 | 92.72 | 6.72      | 3.79     |\n",
    "\n",
    "\n",
    "### 참고문헌\n",
    "[1] Christoph Feichtenhofer, \"X3D: Expanding Architectures for\n",
    "    Efficient Video Recognition.\" https://arxiv.org/abs/2004.04730"
   ]
  }
 ],
 "metadata": {},
 "nbformat": 4,
 "nbformat_minor": 5
}
