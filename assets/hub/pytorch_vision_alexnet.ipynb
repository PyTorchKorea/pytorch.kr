{
 "cells": [
  {
   "cell_type": "markdown",
   "id": "db72d994",
   "metadata": {},
   "source": [
    "### This notebook is optionally accelerated with a GPU runtime.\n",
    "### If you would like to use this acceleration, please select the menu option \"Runtime\" -> \"Change runtime type\", select \"Hardware Accelerator\" -> \"GPU\" and click \"SAVE\"\n",
    "\n",
    "----------------------------------------------------------------------\n",
    "\n",
    "# AlexNet\n",
    "\n",
    "*Author: Pytorch Team*\n",
    "\n",
    "**The 2012 ImageNet winner achieved a top-5 error of 15.3%, more than 10.8 percentage points lower than that of the runner up.**\n",
    "\n",
    "_ | _\n",
    "- | -\n",
    "![alt](https://pytorch.org/assets/images/alexnet1.png) | ![alt](https://pytorch.org/assets/images/alexnet2.png)"
   ]
  },
  {
   "cell_type": "code",
   "execution_count": null,
   "id": "37ca4c14",
   "metadata": {},
   "outputs": [],
   "source": [
    "import torch\n",
    "model = torch.hub.load('pytorch/vision:v0.10.0', 'alexnet', pretrained=True)\n",
    "model.eval()"
   ]
  },
  {
   "cell_type": "markdown",
   "id": "e4af2798",
   "metadata": {},
   "source": [
    "모든 사전 훈련된 모델은 동일한 방식으로 정규화된 입력 이미지, 즉 N이 이미지 수이고, H와 W는 최소 224픽셀인 (N, 3, H, W)형태의 3채널 RGB 이미지의 미니 배치를 요구합니다. 이미지를 [0, 1] 범위로 로드한 다음 mean = [0.485, 0.456, 0.406] 및 std = [0.229, 0.224, 0.225]를 사용하여 정규화해야 합니다.\n",
    "\n",
    "이미지는 `[0, 1]`의 범위에서 로드되어야 하고 `mean = [0.485, 0.456, 0.406]`, `std = [0.229, 0.224, 0.225]` 으로 정규화해야합니다.\n",
    "\n",
    "다음은 실행 예제입니다."
   ]
  },
  {
   "cell_type": "code",
   "execution_count": null,
   "id": "d575a713",
   "metadata": {},
   "outputs": [],
   "source": [
    "# PyTorch 웹사이트에서 예제 이미지 다운로드\n",
    "import urllib\n",
    "url, filename = (\"https://github.com/pytorch/hub/raw/master/images/dog.jpg\", \"dog.jpg\")\n",
    "try: urllib.URLopener().retrieve(url, filename)\n",
    "except: urllib.request.urlretrieve(url, filename)"
   ]
  },
  {
   "cell_type": "code",
   "execution_count": null,
   "id": "9a8da750",
   "metadata": {},
   "outputs": [],
   "source": [
    "# 실행 예제 (torchvision 필요)\n",
    "from PIL import Image\n",
    "from torchvision import transforms\n",
    "input_image = Image.open(filename)\n",
    "preprocess = transforms.Compose([\n",
    "    transforms.Resize(256),\n",
    "    transforms.CenterCrop(224),\n",
    "    transforms.ToTensor(),\n",
    "    transforms.Normalize(mean=[0.485, 0.456, 0.406], std=[0.229, 0.224, 0.225]),\n",
    "])\n",
    "input_tensor = preprocess(input_image)\n",
    "input_batch = input_tensor.unsqueeze(0) # 모델에서 요구하는 형식인 미니 배치 생성\n",
    "\n",
    "# 빠른 실행을 위해 GPU 사용 가능 시 모델과 입력값을 GPU를 사용하도록 설정\n",
    "if torch.cuda.is_available():\n",
    "    input_batch = input_batch.to('cuda')\n",
    "    model.to('cuda')\n",
    "\n",
    "with torch.no_grad():\n",
    "    output = model(input_batch)\n",
    "# Imagenet 1000개 클래스의 신뢰 점수를 나타내는 텐서\n",
    "\n",
    "print(output[0])\n",
    "\n",
    "# 결과는 비정규화된 점수입니다. softmax으로 돌리면 확률값을 얻을 수 있습니다.\n",
    "probabilities = torch.nn.functional.softmax(output[0], dim=0)\n",
    "print(probabilities)"
   ]
  },
  {
   "cell_type": "code",
   "execution_count": null,
   "id": "28f0e534",
   "metadata": {},
   "outputs": [],
   "source": [
    "# ImageNet 레이블 다운로드\n",
    "!wget https://raw.githubusercontent.com/pytorch/hub/master/imagenet_classes.txt"
   ]
  },
  {
   "cell_type": "code",
   "execution_count": null,
   "id": "f2d5183c",
   "metadata": {},
   "outputs": [],
   "source": [
    "# 카테고리 읽기\n",
    "with open(\"imagenet_classes.txt\", \"r\") as f:\n",
    "    categories = [s.strip() for s in f.readlines()]\n",
    "# 이미지별 확률값 상위 카테고리 출력\n",
    "top5_prob, top5_catid = torch.topk(probabilities, 5)\n",
    "for i in range(top5_prob.size(0)):\n",
    "    print(categories[top5_catid[i]], top5_prob[i].item())"
   ]
  },
  {
   "cell_type": "markdown",
   "id": "0654e576",
   "metadata": {},
   "source": [
    "### 모델 설명\n",
    "\n",
    "AlexNet은 2012년도 ImageNet Large Scale Visual Recognition Challenge (ILSVRC)에 참여한 모델입니다. 이 네트워크는 15.3%의 top-5 에러율을 달성했고, 이는 2위보다 10.8%P 낮은 수치입니다. 원 논문의 주요 결론은 높은 성능을 위해 모델의 깊이가 필수적이라는 것이었습니다. 이는 계산 비용이 많이 들지만, 학습 과정에서 GPU의 사용으로 가능해졌습니다.\n",
    "\n",
    "사전 훈련된 모델이 있는 ImageNet 데이터셋의 1-crop 에러율은 다음 표와 같습니다.\n",
    "\n",
    "| 모델 구조 | Top-1 에러 | Top-5 에러 |\n",
    "| --------------- | ----------- | ----------- |\n",
    "|  alexnet        | 43.45       | 20.91       | -->\n",
    "\n",
    "### 참고문헌\n",
    "\n",
    "1. [One weird trick for parallelizing convolutional neural networks](https://arxiv.org/abs/1404.5997)."
   ]
  }
 ],
 "metadata": {},
 "nbformat": 4,
 "nbformat_minor": 5
}
