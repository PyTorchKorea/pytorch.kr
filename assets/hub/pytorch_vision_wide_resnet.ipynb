{
 "cells": [
  {
   "cell_type": "markdown",
   "id": "c586f6a1",
   "metadata": {},
   "source": [
    "### This notebook is optionally accelerated with a GPU runtime.\n",
    "### If you would like to use this acceleration, please select the menu option \"Runtime\" -> \"Change runtime type\", select \"Hardware Accelerator\" -> \"GPU\" and click \"SAVE\"\n",
    "\n",
    "----------------------------------------------------------------------\n",
    "\n",
    "# Wide ResNet\n",
    "\n",
    "*Author: Sergey Zagoruyko*\n",
    "\n",
    "**Wide Residual Networks**\n",
    "\n",
    "<img src=\"https://pytorch.org/assets/images/wide_resnet.png\" alt=\"alt\" width=\"50%\"/>"
   ]
  },
  {
   "cell_type": "code",
   "execution_count": null,
   "id": "e47c5916",
   "metadata": {},
   "outputs": [],
   "source": [
    "import torch\n",
    "# load WRN-50-2:\n",
    "model = torch.hub.load('pytorch/vision:v0.10.0', 'wide_resnet50_2', pretrained=True)\n",
    "# or WRN-101-2\n",
    "model = torch.hub.load('pytorch/vision:v0.10.0', 'wide_resnet101_2', pretrained=True)\n",
    "model.eval()"
   ]
  },
  {
   "cell_type": "markdown",
   "id": "c2ff0c51",
   "metadata": {},
   "source": [
    "모든 사전 훈련된 모델은 동일한 방식으로 정규화된 입력 이미지를 요구합니다.\n",
    "즉, `H`와 `W`가 최소 `224`의 크기를 가지는 `(3 x H x W)`형태의 3채널 RGB 이미지의 미니배치가 필요합니다. \n",
    "이미지를 [0, 1] 범위로 불러온 다음 `mean = [0.485, 0.456, 0.406]`, `std = [0.229, 0.224, 0.225]`를 이용하여 정규화해야 합니다.\n",
    "\n",
    "다음은 실행예시입니다."
   ]
  },
  {
   "cell_type": "code",
   "execution_count": null,
   "id": "0b11c38e",
   "metadata": {},
   "outputs": [],
   "source": [
    "# 파이토치 웹 사이트에서 예제 이미지 다운로드\n",
    "import urllib\n",
    "url, filename = (\"https://github.com/pytorch/hub/raw/master/images/dog.jpg\", \"dog.jpg\")\n",
    "try: urllib.URLopener().retrieve(url, filename)\n",
    "except: urllib.request.urlretrieve(url, filename)"
   ]
  },
  {
   "cell_type": "code",
   "execution_count": null,
   "id": "8206b765",
   "metadata": {},
   "outputs": [],
   "source": [
    "# 실행예시 (torchvision이 요구됩니다.)\n",
    "from PIL import Image\n",
    "from torchvision import transforms\n",
    "input_image = Image.open(filename)\n",
    "preprocess = transforms.Compose([\n",
    "    transforms.Resize(256),\n",
    "    transforms.CenterCrop(224),\n",
    "    transforms.ToTensor(),\n",
    "    transforms.Normalize(mean=[0.485, 0.456, 0.406], std=[0.229, 0.224, 0.225]),\n",
    "])\n",
    "input_tensor = preprocess(input_image)\n",
    "input_batch = input_tensor.unsqueeze(0) # 모델에서 요구하는 미니배치 생성\n",
    "\n",
    "# GPU 사용이 가능한 경우 속도를 위해 입력과 모델을 GPU로 이동\n",
    "if torch.cuda.is_available():\n",
    "    input_batch = input_batch.to('cuda')\n",
    "    model.to('cuda')\n",
    "\n",
    "with torch.no_grad():\n",
    "    output = model(input_batch)\n",
    "# ImageNet 1000개 클래스에 대한 신뢰도 점수를 가진 1000 형태의 Tensor 출력\n",
    "print(output[0])\n",
    "# 출력은 정규화되어있지 않습니다. 소프트맥스를 실행하여 확률을 얻을 수 있습니다.\n",
    "probabilities = torch.nn.functional.softmax(output[0], dim=0)\n",
    "print(probabilities)"
   ]
  },
  {
   "cell_type": "code",
   "execution_count": null,
   "id": "da69f829",
   "metadata": {},
   "outputs": [],
   "source": [
    "# ImageNet 레이블 다운로드\n",
    "!wget https://raw.githubusercontent.com/pytorch/hub/master/imagenet_classes.txt"
   ]
  },
  {
   "cell_type": "code",
   "execution_count": null,
   "id": "a1c0853f",
   "metadata": {},
   "outputs": [],
   "source": [
    "# 카테고리 읽어오기\n",
    "with open(\"imagenet_classes.txt\", \"r\") as f:\n",
    "    categories = [s.strip() for s in f.readlines()]\n",
    "# 이미지마다 상위 카테고리 5개 보여주기\n",
    "top5_prob, top5_catid = torch.topk(probabilities, 5)\n",
    "for i in range(top5_prob.size(0)):\n",
    "    print(categories[top5_catid[i]], top5_prob[i].item())"
   ]
  },
  {
   "cell_type": "markdown",
   "id": "7beee260",
   "metadata": {},
   "source": [
    "### 모델 설명\n",
    "\n",
    "Wide Residual 네트워크는 ResNet에 비해 단순히 채널 수가 증가했습니다. \n",
    "이외의 아키텍처는 ResNet과 동일합니다. \n",
    "병목(bottleneck) 블록이 있는 심층 ImageNet 모델은 내부 3x3 합성곱 채널 수를 증가 시켰습니다.\n",
    "\n",
    "`wide_resnet50_2` 및 `wide_resnet101_2` 모델은 [Warm Restarts가 있는 SGD(SGDR)](https://arxiv.org/abs/1608.03983)를 사용하여 혼합 정밀도(Mixed Precision) 방식으로 학습되었습니다.\n",
    "체크 포인트는 크기가 작은 경우 절반 정밀도(batch norm 제외)의 가중치를 가지며 FP32 모델에서도 사용할 수 있습니다.\n",
    "| Model structure   | Top-1 error | Top-5 error | # parameters |\n",
    "| ----------------- | :---------: | :---------: | :----------: |\n",
    "|  wide_resnet50_2  | 21.49       | 5.91        | 68.9M        |\n",
    "|  wide_resnet101_2 | 21.16       | 5.72        | 126.9M       |\n",
    "\n",
    "### 참고문헌\n",
    "\n",
    " - [Wide Residual Networks](https://arxiv.org/abs/1605.07146)\n",
    " - [Deep Residual Learning for Image Recognition](https://arxiv.org/abs/1512.03385)\n",
    " - [Mixed Precision Training](https://arxiv.org/abs/1710.03740)\n",
    " - [SGDR: Stochastic Gradient Descent with Warm Restarts](https://arxiv.org/abs/1608.03983)"
   ]
  }
 ],
 "metadata": {},
 "nbformat": 4,
 "nbformat_minor": 5
}
