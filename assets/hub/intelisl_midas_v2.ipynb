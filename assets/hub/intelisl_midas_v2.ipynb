{
 "cells": [
  {
   "cell_type": "markdown",
   "id": "d5255b4a",
   "metadata": {},
   "source": [
    "### This notebook is optionally accelerated with a GPU runtime.\n",
    "### If you would like to use this acceleration, please select the menu option \"Runtime\" -> \"Change runtime type\", select \"Hardware Accelerator\" -> \"GPU\" and click \"SAVE\"\n",
    "\n",
    "----------------------------------------------------------------------\n",
    "\n",
    "# MiDaS\n",
    "\n",
    "*Author: Intel ISL*\n",
    "\n",
    "**MiDaS models for computing relative depth from a single image.**\n",
    "\n",
    "<img src=\"https://pytorch.org/assets/images/midas_samples.png\" alt=\"alt\" width=\"50%\"/>\n",
    "\n",
    "\n",
    "### 모델 설명\n",
    "\n",
    "[MiDaS](https://arxiv.org/abs/1907.01341)는 단일 이미지로부터 상대적 역 깊이(relative inverse depth)를 계산합니다. 본 저장소는 작지만 고속의 모델부터 가장 높은 정확도를 제공하는 매우 큰 모델까지 다양한 사례를 다루는 여러 모델을 제공합니다. 또한 모델은 광범위한 입력에서 높은 품질을 보장하기 위해 다목적(multi-objective) 최적화를 사용해 10개의 개별 데이터 셋에 대해 훈련되었습니다. \n",
    "\n",
    "### 종속 패키지 설치\n",
    "\n",
    "MiDas 모델은 [timm](https://github.com/rwightman/pytorch-image-models)을 사용합니다 아래 명령어를 통해 설치해 주세요."
   ]
  },
  {
   "cell_type": "code",
   "execution_count": null,
   "id": "f74db04d",
   "metadata": {
    "attributes": {
     "classes": [
      "shell"
     ],
     "id": ""
    }
   },
   "outputs": [],
   "source": [
    "pip install timm"
   ]
  },
  {
   "cell_type": "markdown",
   "id": "5a0f9d02",
   "metadata": {},
   "source": [
    "### 사용 예시\n",
    "\n",
    "파이토치 홈페이지로부터 이미지를 다운로드합니다."
   ]
  },
  {
   "cell_type": "code",
   "execution_count": null,
   "id": "bbe10ebb",
   "metadata": {},
   "outputs": [],
   "source": [
    "import cv2\n",
    "import torch\n",
    "import urllib.request\n",
    "\n",
    "import matplotlib.pyplot as plt\n",
    "\n",
    "url, filename = (\"https://github.com/pytorch/hub/raw/master/images/dog.jpg\", \"dog.jpg\")\n",
    "urllib.request.urlretrieve(url, filename)"
   ]
  },
  {
   "cell_type": "markdown",
   "id": "89cd177b",
   "metadata": {},
   "source": [
    "모델을 로드합니다. (개요는 [https://github.com/intel-isl/MiDaS/#Accuracy](https://github.com/intel-isl/MiDaS/#Accuracy) 를 참조하세요.)"
   ]
  },
  {
   "cell_type": "code",
   "execution_count": null,
   "id": "a8dafcbe",
   "metadata": {},
   "outputs": [],
   "source": [
    "model_type = \"DPT_Large\"     # MiDaS v3 - Large     (highest accuracy, slowest inference speed)\n",
    "#model_type = \"DPT_Hybrid\"   # MiDaS v3 - Hybrid    (medium accuracy, medium inference speed)\n",
    "#model_type = \"MiDaS_small\"  # MiDaS v2.1 - Small   (lowest accuracy, highest inference speed)\n",
    "\n",
    "midas = torch.hub.load(\"intel-isl/MiDaS\", model_type)"
   ]
  },
  {
   "cell_type": "markdown",
   "id": "57cd8df4",
   "metadata": {},
   "source": [
    "GPU 사용이 가능한 환경이라면, 모델에 GPU를 사용합니다."
   ]
  },
  {
   "cell_type": "code",
   "execution_count": null,
   "id": "532514fa",
   "metadata": {},
   "outputs": [],
   "source": [
    "device = torch.device(\"cuda\") if torch.cuda.is_available() else torch.device(\"cpu\")\n",
    "midas.to(device)\n",
    "midas.eval()"
   ]
  },
  {
   "cell_type": "markdown",
   "id": "6dfe3ea6",
   "metadata": {},
   "source": [
    "여러가지 모델에 입력할 이미지를 크기 변경(resize)이나 정규화(normalize)하기 위한 변환(transform)을 불러옵니다."
   ]
  },
  {
   "cell_type": "code",
   "execution_count": null,
   "id": "18101482",
   "metadata": {},
   "outputs": [],
   "source": [
    "midas_transforms = torch.hub.load(\"intel-isl/MiDaS\", \"transforms\")\n",
    "\n",
    "if model_type == \"DPT_Large\" or model_type == \"DPT_Hybrid\":\n",
    "    transform = midas_transforms.dpt_transform\n",
    "else:\n",
    "    transform = midas_transforms.small_transform"
   ]
  },
  {
   "cell_type": "markdown",
   "id": "6274ca29",
   "metadata": {},
   "source": [
    "이미지를 로드하고 변환(transforms)을 적용합니다."
   ]
  },
  {
   "cell_type": "code",
   "execution_count": null,
   "id": "e9299d1b",
   "metadata": {},
   "outputs": [],
   "source": [
    "img = cv2.imread(filename)\n",
    "img = cv2.cvtColor(img, cv2.COLOR_BGR2RGB)\n",
    "\n",
    "input_batch = transform(img).to(device)"
   ]
  },
  {
   "cell_type": "markdown",
   "id": "d228c374",
   "metadata": {},
   "source": [
    "기존 해상도로 예측 및 크기 변경합니다."
   ]
  },
  {
   "cell_type": "code",
   "execution_count": null,
   "id": "29be7374",
   "metadata": {},
   "outputs": [],
   "source": [
    "with torch.no_grad():\n",
    "    prediction = midas(input_batch)\n",
    "\n",
    "    prediction = torch.nn.functional.interpolate(\n",
    "        prediction.unsqueeze(1),\n",
    "        size=img.shape[:2],\n",
    "        mode=\"bicubic\",\n",
    "        align_corners=False,\n",
    "    ).squeeze()\n",
    "\n",
    "output = prediction.cpu().numpy()"
   ]
  },
  {
   "cell_type": "markdown",
   "id": "0d63ef4d",
   "metadata": {},
   "source": [
    "결과 출력"
   ]
  },
  {
   "cell_type": "code",
   "execution_count": null,
   "id": "e482f183",
   "metadata": {},
   "outputs": [],
   "source": [
    "plt.imshow(output)\n",
    "# plt.show()"
   ]
  },
  {
   "cell_type": "markdown",
   "id": "9e139d51",
   "metadata": {},
   "source": [
    "### 참고문헌\n",
    "[Towards Robust Monocular Depth Estimation: Mixing Datasets for Zero-shot Cross-dataset Transfer](https://arxiv.org/abs/1907.01341)\n",
    "\n",
    "[Vision Transformers for Dense Prediction](https://arxiv.org/abs/2103.13413)\n",
    "\n",
    "만약 MiDaS 모델을 사용한다면 본 논문을 인용해 주세요:"
   ]
  },
  {
   "cell_type": "code",
   "execution_count": null,
   "id": "9f25339f",
   "metadata": {
    "attributes": {
     "classes": [
      "bibtex"
     ],
     "id": ""
    }
   },
   "outputs": [],
   "source": [
    "@article{Ranftl2020,\n",
    "\tauthor    = {Ren\\'{e} Ranftl and Katrin Lasinger and David Hafner and Konrad Schindler and Vladlen Koltun},\n",
    "\ttitle     = {Towards Robust Monocular Depth Estimation: Mixing Datasets for Zero-shot Cross-dataset Transfer},\n",
    "\tjournal   = {IEEE Transactions on Pattern Analysis and Machine Intelligence (TPAMI)},\n",
    "\tyear      = {2020},\n",
    "}"
   ]
  },
  {
   "cell_type": "code",
   "execution_count": null,
   "id": "e6ef75df",
   "metadata": {
    "attributes": {
     "classes": [
      "bibtex"
     ],
     "id": ""
    }
   },
   "outputs": [],
   "source": [
    "@article{Ranftl2021,\n",
    "\tauthor    = {Ren\\'{e} Ranftl and Alexey Bochkovskiy and Vladlen Koltun},\n",
    "\ttitle     = {Vision Transformers for Dense Prediction},\n",
    "\tjournal   = {ArXiv preprint},\n",
    "\tyear      = {2021},\n",
    "}"
   ]
  }
 ],
 "metadata": {},
 "nbformat": 4,
 "nbformat_minor": 5
}
