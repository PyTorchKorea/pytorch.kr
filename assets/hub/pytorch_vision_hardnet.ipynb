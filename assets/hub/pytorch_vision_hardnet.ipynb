{
 "cells": [
  {
   "cell_type": "markdown",
   "id": "d9068649",
   "metadata": {},
   "source": [
    "### This notebook is optionally accelerated with a GPU runtime.\n",
    "### If you would like to use this acceleration, please select the menu option \"Runtime\" -> \"Change runtime type\", select \"Hardware Accelerator\" -> \"GPU\" and click \"SAVE\"\n",
    "\n",
    "----------------------------------------------------------------------\n",
    "\n",
    "# HarDNet\n",
    "\n",
    "*Author: PingoLH*\n",
    "\n",
    "**Harmonic DenseNet pre-trained on ImageNet**\n",
    "\n",
    "_ | _\n",
    "- | -\n",
    "![alt](https://pytorch.org/assets/images/hardnet.png) | ![alt](https://pytorch.org/assets/images/hardnet_blk.png)"
   ]
  },
  {
   "cell_type": "code",
   "execution_count": null,
   "id": "ab382e42",
   "metadata": {},
   "outputs": [],
   "source": [
    "import torch\n",
    "model = torch.hub.load('PingoLH/Pytorch-HarDNet', 'hardnet68', pretrained=True)\n",
    "# or any of these variants\n",
    "# model = torch.hub.load('PingoLH/Pytorch-HarDNet', 'hardnet85', pretrained=True)\n",
    "# model = torch.hub.load('PingoLH/Pytorch-HarDNet', 'hardnet68ds', pretrained=True)\n",
    "# model = torch.hub.load('PingoLH/Pytorch-HarDNet', 'hardnet39ds', pretrained=True)\n",
    "model.eval()"
   ]
  },
  {
   "cell_type": "markdown",
   "id": "54be594a",
   "metadata": {},
   "source": [
    "모든 사전 훈련된 모델은 동일한 방식으로 정규화된 입력 이미지를 요구합니다.\n",
    "즉, `H`와 `W`가 최소 `224`의 크기를 가지는 `(3 x H x W)`형태의 3채널 RGB 이미지의 미니배치가 필요합니다. \n",
    "이미지를 [0, 1] 범위로 불러온 다음 `mean = [0.485, 0.456, 0.406]`, `std = [0.229, 0.224, 0.225]`를 이용하여 정규화해야 합니다.\n",
    "\n",
    "다음은 실행예시입니다."
   ]
  },
  {
   "cell_type": "code",
   "execution_count": null,
   "id": "5204d167",
   "metadata": {},
   "outputs": [],
   "source": [
    "# 파이토치 웹 사이트에서 예제 이미지 다운로드\n",
    "import urllib\n",
    "url, filename = (\"https://github.com/pytorch/hub/raw/master/images/dog.jpg\", \"dog.jpg\")\n",
    "try: urllib.URLopener().retrieve(url, filename)\n",
    "except: urllib.request.urlretrieve(url, filename)"
   ]
  },
  {
   "cell_type": "code",
   "execution_count": null,
   "id": "b541cf41",
   "metadata": {},
   "outputs": [],
   "source": [
    "# 실행예시 (torchvision이 요구됩니다)\n",
    "from PIL import Image\n",
    "from torchvision import transforms\n",
    "input_image = Image.open(filename)\n",
    "preprocess = transforms.Compose([\n",
    "    transforms.Resize(256),\n",
    "    transforms.CenterCrop(224),\n",
    "    transforms.ToTensor(),\n",
    "    transforms.Normalize(mean=[0.485, 0.456, 0.406], std=[0.229, 0.224, 0.225]),\n",
    "])\n",
    "input_tensor = preprocess(input_image)\n",
    "input_batch = input_tensor.unsqueeze(0) # 모델에서 요구하는 미니배치 생성\n",
    "\n",
    "# GPU 사용이 가능한 경우 속도를 위해 입력과 모델을 GPU로 이동\n",
    "if torch.cuda.is_available():\n",
    "    input_batch = input_batch.to('cuda')\n",
    "    model.to('cuda')\n",
    "\n",
    "with torch.no_grad():\n",
    "    output = model(input_batch)\n",
    "# ImageNet의 1000개 클래스에 대한 신뢰도 점수를 가진 1000 형태의 Tensor 출력\n",
    "print(output[0])\n",
    "# 출력은 정규화되어있지 않습니다. 소프트맥스를 실행하여 확률을 얻을 수 있습니다.\n",
    "probabilities = torch.nn.functional.softmax(output[0], dim=0)\n",
    "print(probabilities)"
   ]
  },
  {
   "cell_type": "code",
   "execution_count": null,
   "id": "67b74a03",
   "metadata": {},
   "outputs": [],
   "source": [
    "# ImageNet 레이블 다운로드\n",
    "!wget https://raw.githubusercontent.com/pytorch/hub/master/imagenet_classes.txt"
   ]
  },
  {
   "cell_type": "code",
   "execution_count": null,
   "id": "403d26eb",
   "metadata": {},
   "outputs": [],
   "source": [
    "# 카테고리 읽어오기\n",
    "with open(\"imagenet_classes.txt\", \"r\") as f:\n",
    "    categories = [s.strip() for s in f.readlines()]\n",
    "# 이미지마다 상위 카테고리 5개 보여주기\n",
    "top5_prob, top5_catid = torch.topk(probabilities, 5)\n",
    "for i in range(top5_prob.size(0)):\n",
    "    print(categories[top5_catid[i]], top5_prob[i].item())"
   ]
  },
  {
   "cell_type": "markdown",
   "id": "8e5479b1",
   "metadata": {},
   "source": [
    "### 모델 설명\n",
    "\n",
    "HarDNet(Harmonic DenseNet)은 낮은 메모리 트래픽을 가지는 CNN 모델로 빠르고 효율적입니다.\n",
    "기본 개념은 계산 비용과 메모리 접근 비용을 동시에 최소화하는 것입니다. 따라서 HarDNet 모델은 동일한 정확도를 가진 ResNet 모델에 비해 GPU에서 실행되는 속도가 35% 더 빠릅니다. (MobileNet과 비교하기 위해 설계된 두 DS 모델은 제외)\n",
    "\n",
    "아래에는 각각 깊이별 분리 가능한 Conv 레이어가 있거나 없는 39, 68, 85개의 레이어를 포함한 4가지 버전의 HardNet 모델이 있습니다.\n",
    "사전 훈련된 모델에 대해 ImageNet 데이터셋의 1-crop 오류율은 아래에 나열되어 있습니다.\n",
    "\n",
    "| Model structure | Top-1 error | Top-5 error |\n",
    "| --------------- | ----------- | ----------- |\n",
    "|  hardnet39ds    | 27.92       | 9.57        |\n",
    "|  hardnet68ds    | 25.71       | 8.13        |\n",
    "|  hardnet68      | 23.52       | 6.99        |\n",
    "|  hardnet85      | 21.96       | 6.11        |\n",
    "\n",
    "### 참고문헌\n",
    "\n",
    " - [HarDNet: A Low Memory Traffic Network](https://arxiv.org/abs/1909.00948)"
   ]
  }
 ],
 "metadata": {},
 "nbformat": 4,
 "nbformat_minor": 5
}
