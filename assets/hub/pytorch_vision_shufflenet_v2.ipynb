{
 "cells": [
  {
   "cell_type": "markdown",
   "id": "f05f71f0",
   "metadata": {},
   "source": [
    "### This notebook is optionally accelerated with a GPU runtime.\n",
    "### If you would like to use this acceleration, please select the menu option \"Runtime\" -> \"Change runtime type\", select \"Hardware Accelerator\" -> \"GPU\" and click \"SAVE\"\n",
    "\n",
    "----------------------------------------------------------------------\n",
    "\n",
    "# ShuffleNet v2\n",
    "\n",
    "*Author: Pytorch Team*\n",
    "\n",
    "**An efficient ConvNet optimized for speed and memory, pre-trained on Imagenet**\n",
    "\n",
    "_ | _\n",
    "- | -\n",
    "![alt](https://pytorch.org/assets/images/shufflenet_v2_1.png) | ![alt](https://pytorch.org/assets/images/shufflenet_v2_2.png)"
   ]
  },
  {
   "cell_type": "code",
   "execution_count": null,
   "id": "81ca16dd",
   "metadata": {},
   "outputs": [],
   "source": [
    "import torch\n",
    "model = torch.hub.load('pytorch/vision:v0.10.0', 'shufflenet_v2_x1_0', pretrained=True)\n",
    "model.eval()"
   ]
  },
  {
   "cell_type": "markdown",
   "id": "9dc6184b",
   "metadata": {},
   "source": [
    "모든 사전 훈련된 모델은 동일한 방식으로 정규화된 입력 이미지를 요구합니다.\n",
    "즉, `H`와 `W`가 최소 `224`의 크기를 가지는 `(3 x H x W)`형태의 3채널 RGB 이미지의 미니배치가 필요합니다. \n",
    "이미지를 [0, 1] 범위로 불러온 다음 `mean = [0.485, 0.456, 0.406]`, `std = [0.229, 0.224, 0.225]`를 이용하여 정규화해야 합니다.\n",
    "\n",
    "다음은 실행예시입니다."
   ]
  },
  {
   "cell_type": "code",
   "execution_count": null,
   "id": "85c30c2b",
   "metadata": {},
   "outputs": [],
   "source": [
    "# 파이토치 웹 사이트에서 예제 이미지 다운로드\n",
    "import urllib\n",
    "url, filename = (\"https://github.com/pytorch/hub/raw/master/images/dog.jpg\", \"dog.jpg\")\n",
    "try: urllib.URLopener().retrieve(url, filename)\n",
    "except: urllib.request.urlretrieve(url, filename)"
   ]
  },
  {
   "cell_type": "code",
   "execution_count": null,
   "id": "045d21a1",
   "metadata": {},
   "outputs": [],
   "source": [
    "# 실행예시 (torchvision이 요구됩니다.)\n",
    "from PIL import Image\n",
    "from torchvision import transforms\n",
    "input_image = Image.open(filename)\n",
    "preprocess = transforms.Compose([\n",
    "    transforms.Resize(256),\n",
    "    transforms.CenterCrop(224),\n",
    "    transforms.ToTensor(),\n",
    "    transforms.Normalize(mean=[0.485, 0.456, 0.406], std=[0.229, 0.224, 0.225]),\n",
    "])\n",
    "input_tensor = preprocess(input_image)\n",
    "input_batch = input_tensor.unsqueeze(0) # 모델에서 요구하는 미니배치 생성\n",
    "\n",
    "# GPU 사용이 가능한 경우 속도를 위해 입력과 모델을 GPU로 이동\n",
    "if torch.cuda.is_available():\n",
    "    input_batch = input_batch.to('cuda')\n",
    "    model.to('cuda')\n",
    "\n",
    "with torch.no_grad():\n",
    "    output = model(input_batch)\n",
    "# Imagnet의 1000개 클래스에 대한 신뢰도 점수를 가진 1000 형태의 텐서 출력\n",
    "print(output[0])\n",
    "# 출력은 정규화되어있지 않습니다. 소프트맥스를 실행하여 확률을 얻을 수 있습니다.\n",
    "probabilities = torch.nn.functional.softmax(output[0], dim=0)\n",
    "print(probabilities)"
   ]
  },
  {
   "cell_type": "code",
   "execution_count": null,
   "id": "02de5f82",
   "metadata": {},
   "outputs": [],
   "source": [
    "# ImageNet 레이블 다운로드\n",
    "!wget https://raw.githubusercontent.com/pytorch/hub/master/imagenet_classes.txt"
   ]
  },
  {
   "cell_type": "code",
   "execution_count": null,
   "id": "0b33df09",
   "metadata": {},
   "outputs": [],
   "source": [
    "# 카테고리 읽어오기\n",
    "with open(\"imagenet_classes.txt\", \"r\") as f:\n",
    "    categories = [s.strip() for s in f.readlines()]\n",
    "# 이미지마다 상위 카테고리 5개 보여주기\n",
    "top5_prob, top5_catid = torch.topk(probabilities, 5)\n",
    "for i in range(top5_prob.size(0)):\n",
    "    print(categories[top5_catid[i]], top5_prob[i].item())"
   ]
  },
  {
   "cell_type": "markdown",
   "id": "3860e122",
   "metadata": {},
   "source": [
    "### 모델 설명\n",
    "\n",
    "이전에는 신경망 아키텍처 설계는 주로 FLOP와 같은 계산 복잡성의 간접 측정 기준에 따라 진행되었습니다. 그러나 속도와 같은 직접적인 측정은 메모리 액세스 비용 및 플랫폼 특성과 같은 다른 요소에도 의존합니다. 일련의 통제된 실험을 기반으로, 이 작업은 효율적인 네트워크 설계를 위한 몇 가지 실용적인 지침을 도출합니다. 따라서 ShuffleNet V2라는 새로운 아키텍처가 제시됩니다. 조건 변화에 따른 모델 평가를 통해 속도와 정확도 트레이드오프 측면에서 최고 수준임을 확인했습니다.\n",
    "\n",
    "| Model structure | Top-1 error | Top-5 error |\n",
    "| --------------- | ----------- | ----------- |\n",
    "|  shufflenet_v2       | 30.64       | 11.68       |\n",
    "\n",
    "\n",
    "### 참고문헌\n",
    "\n",
    " - [ShuffleNet V2: Practical Guidelines for Efficient CNN Architecture Design](https://arxiv.org/abs/1807.11164)"
   ]
  }
 ],
 "metadata": {},
 "nbformat": 4,
 "nbformat_minor": 5
}
