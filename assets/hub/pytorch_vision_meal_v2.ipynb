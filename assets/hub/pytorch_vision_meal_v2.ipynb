{
 "cells": [
  {
   "cell_type": "markdown",
   "id": "0aed6c4f",
   "metadata": {},
   "source": [
    "### This notebook requires a GPU runtime to run.\n",
    "### Please select the menu option \"Runtime\" -> \"Change runtime type\", select \"Hardware Accelerator\" -> \"GPU\" and click \"SAVE\"\n",
    "\n",
    "----------------------------------------------------------------------\n",
    "\n",
    "# MEAL_V2\n",
    "\n",
    "*Author: Carnegie Mellon University*\n",
    "\n",
    "**Boosting Tiny and Efficient Models using Knowledge Distillation.**\n",
    "\n",
    "_ | _\n",
    "- | -\n",
    "![alt](https://pytorch.org/assets/images/MEALV2_method.png) | ![alt](https://pytorch.org/assets/images/MEALV2_results.png)\n",
    "\n",
    "\n",
    "`timm` 종속 패키지 설치가 필요합니다."
   ]
  },
  {
   "cell_type": "code",
   "execution_count": null,
   "id": "85bd4b3c",
   "metadata": {},
   "outputs": [],
   "source": [
    "%%bash\n",
    "!pip install timm"
   ]
  },
  {
   "cell_type": "code",
   "execution_count": null,
   "id": "1fe72c50",
   "metadata": {},
   "outputs": [],
   "source": [
    "import torch\n",
    "# 모델 종류: 'mealv1_resnest50', 'mealv2_resnest50', 'mealv2_resnest50_cutmix', 'mealv2_resnest50_380x380', 'mealv2_mobilenetv3_small_075', 'mealv2_mobilenetv3_small_100', 'mealv2_mobilenet_v3_large_100', 'mealv2_efficientnet_b0'\n",
    "# 사전에 학습된 \"mealv2_resnest50_cutmix\"을 불러오는 예시입니다.\n",
    "model = torch.hub.load('szq0214/MEAL-V2','meal_v2', 'mealv2_resnest50_cutmix', pretrained=True)\n",
    "model.eval()"
   ]
  },
  {
   "cell_type": "markdown",
   "id": "bac35534",
   "metadata": {},
   "source": [
    "사전에 학습된 모든 모델은 동일한 방식으로 정규화된 입력 이미지, 즉, `H` 와 `W` 는 최소 `224` 이상인 `(3 x H x W)` 형태의 3-채널 RGB 이미지의 미니 배치를 요구합니다. 이미지를 `[0, 1]` 범위에서 불러온 다음 `mean = [0.485, 0.456, 0.406]` 과 `std = [0.229, 0.224, 0.225]` 를 통해 정규화합니다.\n",
    "\n",
    "실행 예시입니다."
   ]
  },
  {
   "cell_type": "code",
   "execution_count": null,
   "id": "038402bb",
   "metadata": {},
   "outputs": [],
   "source": [
    "# 파이토치 웹사이트에서 예제 이미지 다운로드\n",
    "import urllib\n",
    "url, filename = (\"https://github.com/pytorch/hub/raw/master/images/dog.jpg\", \"dog.jpg\")\n",
    "try: urllib.URLopener().retrieve(url, filename)\n",
    "except: urllib.request.urlretrieve(url, filename)"
   ]
  },
  {
   "cell_type": "code",
   "execution_count": null,
   "id": "ae832e82",
   "metadata": {},
   "outputs": [],
   "source": [
    "# 실행 예시 (torchvision 필요)\n",
    "from PIL import Image\n",
    "from torchvision import transforms\n",
    "input_image = Image.open(filename)\n",
    "preprocess = transforms.Compose([\n",
    "    transforms.Resize(256),\n",
    "    transforms.CenterCrop(224),\n",
    "    transforms.ToTensor(),\n",
    "    transforms.Normalize(mean=[0.485, 0.456, 0.406], std=[0.229, 0.224, 0.225]),\n",
    "])\n",
    "input_tensor = preprocess(input_image)\n",
    "input_batch = input_tensor.unsqueeze(0) # 모델에서 요구하는 미니배치 생성\n",
    "\n",
    "# 가능하다면 속도를 위해 입력과 모델을 GPU로 옮깁니다.\n",
    "if torch.cuda.is_available():\n",
    "    input_batch = input_batch.to('cuda')\n",
    "    model.to('cuda')\n",
    "\n",
    "with torch.no_grad():\n",
    "    output = model(input_batch)\n",
    "# 1000개의 ImageNet 클래스에 대한 신뢰도 점수(confidence score)를 가진 1000 크기의 Tensor\n",
    "print(output[0])\n",
    "# output엔 정규화되지 않은 신뢰도 점수가 있습니다. 확률값을 얻으려면 softmax를 실행하세요.\n",
    "probabilities = torch.nn.functional.softmax(output[0], dim=0)\n",
    "print(probabilities)"
   ]
  },
  {
   "cell_type": "code",
   "execution_count": null,
   "id": "a4773231",
   "metadata": {},
   "outputs": [],
   "source": [
    "# ImageNet 레이블 다운로드\n",
    "!wget https://raw.githubusercontent.com/pytorch/hub/master/imagenet_classes.txt"
   ]
  },
  {
   "cell_type": "code",
   "execution_count": null,
   "id": "97984eaa",
   "metadata": {},
   "outputs": [],
   "source": [
    "# 카테고리 읽기\n",
    "with open(\"imagenet_classes.txt\", \"r\") as f:\n",
    "    categories = [s.strip() for s in f.readlines()]\n",
    "# 이미지별 Top5 카테고리 조회\n",
    "top5_prob, top5_catid = torch.topk(probabilities, 5)\n",
    "for i in range(top5_prob.size(0)):\n",
    "    print(categories[top5_catid[i]], top5_prob[i].item())"
   ]
  },
  {
   "cell_type": "markdown",
   "id": "a4b50d65",
   "metadata": {},
   "source": [
    "### 모델 설명\n",
    "\n",
    "MEAL V2 모델들은 [MEAL V2: Boosting Vanilla ResNet-50 to 80%+ Top-1 Accuracy on ImageNet without Tricks](https://arxiv.org/pdf/2009.08453.pdf) 논문에 기반합니다. \n",
    "\n",
    "MEAL V2의 주요 관점은 distillation 과정에 One-Hot 레이블을 사용하지 않는다는 것입니다. MEAL V2는 판별자를 이용한 knowledge distillation 앙상블 기법인 [MEAL](https://arxiv.org/abs/1812.02425)에 기초하며, MEAL을 단순화하기 위해 다음의 수정을 거쳤습니다. 1) 판별자 입력, 유사도 손실 계산에 최종 출력만을 활용합니다. 2) 모든 teacher들의 예측 확률을 평균 내어 distillation에 활용합니다. 이를 통해 MEAL V2는 어떠한 트릭 사용 없이도 ResNet-50의 ImageNet Top-1 정확도를 80% 이상 기록할 수 있습니다. (트릭 : 1) 모델 구조 변경; 2) ImageNet 외 추가 데이터 활용; 3) autoaug/randaug; 4) cosine learning rate; 5) mixup/cutmix; 6) label smoothing; etc)\n",
    "\n",
    "| Models | Resolution| #Parameters | Top-1/Top-5 |\n",
    "| :---: | :-: | :-: | :------:| :------: | \n",
    "| [MEAL-V1 w/ ResNet50](https://arxiv.org/abs/1812.02425) | 224 | 25.6M |**78.21/94.01** | [GitHub](https://github.com/AaronHeee/MEAL#imagenet-model) |\n",
    "| MEAL-V2 w/ ResNet50 | 224 | 25.6M | **80.67/95.09** | \n",
    "| MEAL-V2 w/ ResNet50| 380 | 25.6M | **81.72/95.81** | \n",
    "| MEAL-V2 + CutMix w/ ResNet50| 224 | 25.6M | **80.98/95.35** | \n",
    "| MEAL-V2 w/ MobileNet V3-Small 0.75| 224 | 2.04M | **67.60/87.23** | \n",
    "| MEAL-V2 w/ MobileNet V3-Small 1.0| 224 | 2.54M | **69.65/88.71** | \n",
    "| MEAL-V2 w/ MobileNet V3-Large 1.0 | 224 | 5.48M | **76.92/93.32** | \n",
    "| MEAL-V2 w/ EfficientNet-B0| 224 | 5.29M | **78.29/93.95** | \n",
    "\n",
    "### 참조\n",
    "\n",
    "자세한 사항은 [MEAL V2](https://arxiv.org/pdf/2009.08453.pdf), [MEAL](https://arxiv.org/pdf/1812.02425.pdf)을 통해 확인할 수 있습니다."
   ]
  },
  {
   "cell_type": "code",
   "execution_count": null,
   "id": "b8167f4b",
   "metadata": {},
   "outputs": [],
   "source": [
    "@article{shen2020mealv2,\n",
    "    title={MEAL V2: Boosting Vanilla ResNet-50 to 80%+ Top-1 Accuracy on ImageNet without Tricks},\n",
    "    author={Shen, Zhiqiang and Savvides, Marios},\n",
    "    journal={arXiv preprint arXiv:2009.08453},\n",
    "    year={2020}\n",
    "}"
   ]
  },
  {
   "cell_type": "markdown",
   "id": "b04d7c1e",
   "metadata": {},
   "source": [
    "@inproceedings{shen2019MEAL,\n",
    "\t\ttitle = {MEAL: Multi-Model Ensemble via Adversarial Learning},\n",
    "\t\tauthor = {Shen, Zhiqiang and He, Zhankui and Xue, Xiangyang},\n",
    "\t\tbooktitle = {AAAI},\n",
    "\t\tyear = {2019}\n",
    "\t}"
   ]
  }
 ],
 "metadata": {},
 "nbformat": 4,
 "nbformat_minor": 5
}
