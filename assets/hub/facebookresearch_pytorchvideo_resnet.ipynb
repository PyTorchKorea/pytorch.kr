{
 "cells": [
  {
   "cell_type": "markdown",
   "id": "90fdd484",
   "metadata": {},
   "source": [
    "# 3D ResNet\n",
    "\n",
    "*Author: FAIR PyTorchVideo*\n",
    "\n",
    "**Resnet Style Video classification networks pretrained on the Kinetics 400 dataset**\n",
    "\n",
    "\n",
    "### 사용 예시\n",
    "\n",
    "#### Imports\n",
    "\n",
    "모델 불러오기:"
   ]
  },
  {
   "cell_type": "code",
   "execution_count": null,
   "id": "06c83bf4",
   "metadata": {},
   "outputs": [],
   "source": [
    "import torch\n",
    "# `slow_r50` 모델 선택\n",
    "model = torch.hub.load('facebookresearch/pytorchvideo', 'slow_r50', pretrained=True)"
   ]
  },
  {
   "cell_type": "markdown",
   "id": "ef04016c",
   "metadata": {},
   "source": [
    "나머지 함수들 불러오기:"
   ]
  },
  {
   "cell_type": "code",
   "execution_count": null,
   "id": "72179f1c",
   "metadata": {},
   "outputs": [],
   "source": [
    "import json\n",
    "import urllib\n",
    "from pytorchvideo.data.encoded_video import EncodedVideo\n",
    "\n",
    "from torchvision.transforms import Compose, Lambda\n",
    "from torchvision.transforms._transforms_video import (\n",
    "    CenterCropVideo,\n",
    "    NormalizeVideo,\n",
    ")\n",
    "from pytorchvideo.transforms import (\n",
    "    ApplyTransformToKey,\n",
    "    ShortSideScale,\n",
    "    UniformTemporalSubsample\n",
    ")"
   ]
  },
  {
   "cell_type": "markdown",
   "id": "e5feb379",
   "metadata": {},
   "source": [
    "#### 환경설정\n",
    "\n",
    "모델을 평가 모드로 설정하고 원하는 디바이스 방식을 선택합니다."
   ]
  },
  {
   "cell_type": "code",
   "execution_count": null,
   "id": "ebb9d125",
   "metadata": {
    "attributes": {
     "classes": [
      "python "
     ],
     "id": ""
    }
   },
   "outputs": [],
   "source": [
    "# GPU 또는 CPU 방식을 설정합니다.\n",
    "device = \"cpu\"\n",
    "model = model.eval()\n",
    "model = model.to(device)"
   ]
  },
  {
   "cell_type": "markdown",
   "id": "e8b45363",
   "metadata": {},
   "source": [
    "토치 허브 모델이 훈련된 Kinetics 400 데이터셋에 대해 ID에서의 레이블과 맞는 정보를 다운로드합니다. 이는 예측된 클래스 ID에서 카테고리 레이블 이름을 가져오는데 사용됩니다."
   ]
  },
  {
   "cell_type": "code",
   "execution_count": null,
   "id": "02d490e9",
   "metadata": {},
   "outputs": [],
   "source": [
    "json_url = \"https://dl.fbaipublicfiles.com/pyslowfast/dataset/class_names/kinetics_classnames.json\"\n",
    "json_filename = \"kinetics_classnames.json\"\n",
    "try: urllib.URLopener().retrieve(json_url, json_filename)\n",
    "except: urllib.request.urlretrieve(json_url, json_filename)"
   ]
  },
  {
   "cell_type": "code",
   "execution_count": null,
   "id": "855fe5c4",
   "metadata": {},
   "outputs": [],
   "source": [
    "with open(json_filename, \"r\") as f:\n",
    "    kinetics_classnames = json.load(f)\n",
    "\n",
    "# 레이블 이름과 맞는 ID 만들기\n",
    "kinetics_id_to_classname = {}\n",
    "for k, v in kinetics_classnames.items():\n",
    "    kinetics_id_to_classname[v] = str(k).replace('\"', \"\")"
   ]
  },
  {
   "cell_type": "markdown",
   "id": "ccf62bd0",
   "metadata": {},
   "source": [
    "#### 입력 형태에 대한 정의"
   ]
  },
  {
   "cell_type": "code",
   "execution_count": null,
   "id": "8a7eee05",
   "metadata": {},
   "outputs": [],
   "source": [
    "side_size = 256\n",
    "mean = [0.45, 0.45, 0.45]\n",
    "std = [0.225, 0.225, 0.225]\n",
    "crop_size = 256\n",
    "num_frames = 8\n",
    "sampling_rate = 8\n",
    "frames_per_second = 30\n",
    "\n",
    "# 이 변환은 slow_R50 모델에만 해당됩니다.\n",
    "transform =  ApplyTransformToKey(\n",
    "    key=\"video\",\n",
    "    transform=Compose(\n",
    "        [\n",
    "            UniformTemporalSubsample(num_frames),\n",
    "            Lambda(lambda x: x/255.0),\n",
    "            NormalizeVideo(mean, std),\n",
    "            ShortSideScale(\n",
    "                size=side_size\n",
    "            ),\n",
    "            CenterCropVideo(crop_size=(crop_size, crop_size))\n",
    "        ]\n",
    "    ),\n",
    ")\n",
    "\n",
    "# 입력 클립의 길이는 모델에 따라 달라집니다.\n",
    "clip_duration = (num_frames * sampling_rate)/frames_per_second"
   ]
  },
  {
   "cell_type": "markdown",
   "id": "891c372c",
   "metadata": {},
   "source": [
    "#### 추론 실행\n",
    "\n",
    "예제 영상을 다운로드합니다."
   ]
  },
  {
   "cell_type": "code",
   "execution_count": null,
   "id": "af433699",
   "metadata": {},
   "outputs": [],
   "source": [
    "url_link = \"https://dl.fbaipublicfiles.com/pytorchvideo/projects/archery.mp4\"\n",
    "video_path = 'archery.mp4'\n",
    "try: urllib.URLopener().retrieve(url_link, video_path)\n",
    "except: urllib.request.urlretrieve(url_link, video_path)"
   ]
  },
  {
   "cell_type": "markdown",
   "id": "cb751c06",
   "metadata": {},
   "source": [
    "영상을 불러오고 이것을 모델에 필요한 입력 형식으로 변환합니다."
   ]
  },
  {
   "cell_type": "code",
   "execution_count": null,
   "id": "d90fab44",
   "metadata": {},
   "outputs": [],
   "source": [
    "# 시작 및 종료 구간을 지정하여 불러올 클립의 길이를 선택합니다.\n",
    "# start_sec는 영상에서 행동이 시작되는 위치와 일치해야합니다.\n",
    "start_sec = 0\n",
    "end_sec = start_sec + clip_duration\n",
    "\n",
    "# EncodedVideo helper 클래스를 초기화하고 영상을 불러옵니다.\n",
    "video = EncodedVideo.from_path(video_path)\n",
    "\n",
    "# 원하는 클립을 불러옵니다.\n",
    "video_data = video.get_clip(start_sec=start_sec, end_sec=end_sec)\n",
    "\n",
    "# 비디오 입력을 정규화하기 위해 transform 함수를 적용합니다.\n",
    "video_data = transform(video_data)\n",
    "\n",
    "# 입력을 원하는 디바이스로 이동합니다.\n",
    "inputs = video_data[\"video\"]\n",
    "inputs = inputs.to(device)"
   ]
  },
  {
   "cell_type": "markdown",
   "id": "f5ae7362",
   "metadata": {},
   "source": [
    "#### 예측값 구하기"
   ]
  },
  {
   "cell_type": "code",
   "execution_count": null,
   "id": "7a99ca1a",
   "metadata": {},
   "outputs": [],
   "source": [
    "# 모델을 통해 입력 클립을 전달합니다.\n",
    "preds = model(inputs[None, ...])\n",
    "\n",
    "# 예측된 클래스를 가져옵니다.\n",
    "post_act = torch.nn.Softmax(dim=1)\n",
    "preds = post_act(preds)\n",
    "pred_classes = preds.topk(k=5).indices[0]\n",
    "\n",
    "# 예측된 클래스를 레이블 이름에 매핑합니다.\n",
    "pred_class_names = [kinetics_id_to_classname[int(i)] for i in pred_classes]\n",
    "print(\"Top 5 predicted labels: %s\" % \", \".join(pred_class_names))"
   ]
  },
  {
   "cell_type": "markdown",
   "id": "d2693c16",
   "metadata": {},
   "source": [
    "### 모델 설명\n",
    "모델 아키텍처는 Kinetics 데이터셋의 8x8 설정을 사용하여 사전 훈련된 가중치가 있는 참고문헌 [1]을 기반으로 합니다.\n",
    "| arch | depth | frame length x sample rate | top 1 | top 5 | Flops (G) | Params (M) |\n",
    "| --------------- | ----------- | ----------- | ----------- | ----------- | ----------- |  ----------- |\n",
    "| Slow     | R50   | 8x8                        | 74.58 | 91.63 | 54.52     | 32.45     |\n",
    "\n",
    "\n",
    "### 참고문헌\n",
    "[1] Christoph Feichtenhofer et al, \"SlowFast Networks for Video Recognition\"\n",
    "https://arxiv.org/pdf/1812.03982.pdf"
   ]
  }
 ],
 "metadata": {},
 "nbformat": 4,
 "nbformat_minor": 5
}
