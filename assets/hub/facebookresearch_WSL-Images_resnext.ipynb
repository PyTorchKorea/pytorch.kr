{
 "cells": [
  {
   "cell_type": "markdown",
   "id": "0a5d6e1e",
   "metadata": {},
   "source": [
    "### This notebook is optionally accelerated with a GPU runtime.\n",
    "### If you would like to use this acceleration, please select the menu option \"Runtime\" -> \"Change runtime type\", select \"Hardware Accelerator\" -> \"GPU\" and click \"SAVE\"\n",
    "\n",
    "----------------------------------------------------------------------\n",
    "\n",
    "# ResNext WSL\n",
    "\n",
    "*Author: Facebook AI*\n",
    "\n",
    "**ResNext models trained with billion scale weakly-supervised data.**\n",
    "\n",
    "<img src=\"https://pytorch.org/assets/images/wsl-image.png\" alt=\"alt\" width=\"50%\"/>"
   ]
  },
  {
   "cell_type": "code",
   "execution_count": null,
   "id": "fd69ada3",
   "metadata": {},
   "outputs": [],
   "source": [
    "import torch\n",
    "model = torch.hub.load('facebookresearch/WSL-Images', 'resnext101_32x8d_wsl')\n",
    "# 또는\n",
    "# model = torch.hub.load('facebookresearch/WSL-Images', 'resnext101_32x16d_wsl')\n",
    "# 또는\n",
    "# model = torch.hub.load('facebookresearch/WSL-Images', 'resnext101_32x32d_wsl')\n",
    "# 또는\n",
    "#model = torch.hub.load('facebookresearch/WSL-Images', 'resnext101_32x48d_wsl')\n",
    "model.eval()"
   ]
  },
  {
   "cell_type": "markdown",
   "id": "539d90ee",
   "metadata": {},
   "source": [
    "모든 사전 학습된 모델은 동일한 방식으로 정규화된 입력 이미지를 요구합니다.\n",
    "즉, `H`와 `W`가 최소 `224`의 크기를 가지는 `(3 x H x W)`형태의 3채널 RGB 이미지의 미니배치가 필요합니다.\n",
    "이미지는 [0, 1] 범위로 불러온 다음 `mean = [0.485, 0.456, 0.406]`, `std = [0.229, 0.224, 0.225]`를 이용하여 정규화해야 합니다.\n",
    "\n",
    "다음은 실행 예시입니다."
   ]
  },
  {
   "cell_type": "code",
   "execution_count": null,
   "id": "a833e082",
   "metadata": {},
   "outputs": [],
   "source": [
    "# 파이토치 웹사이트에서 예시 이미지 다운로드\n",
    "import urllib\n",
    "url, filename = (\"https://github.com/pytorch/hub/raw/master/images/dog.jpg\", \"dog.jpg\")\n",
    "try: urllib.URLopener().retrieve(url, filename)\n",
    "except: urllib.request.urlretrieve(url, filename)"
   ]
  },
  {
   "cell_type": "code",
   "execution_count": null,
   "id": "52910bb8",
   "metadata": {},
   "outputs": [],
   "source": [
    "# 실행 예시(torchvision이 요구됩니다.)\n",
    "from PIL import Image\n",
    "from torchvision import transforms\n",
    "input_image = Image.open(filename)\n",
    "preprocess = transforms.Compose([\n",
    "    transforms.Resize(256),\n",
    "    transforms.CenterCrop(224),\n",
    "    transforms.ToTensor(),\n",
    "    transforms.Normalize(mean=[0.485, 0.456, 0.406], std=[0.229, 0.224, 0.225]),\n",
    "])\n",
    "input_tensor = preprocess(input_image)\n",
    "input_batch = input_tensor.unsqueeze(0) # create a mini-batch as expected by the model\n",
    "\n",
    "# GPU를 사용할 수 있다면, 속도 향상을 위해 입력과 모델을 GPU로 이동\n",
    "if torch.cuda.is_available():\n",
    "    input_batch = input_batch.to('cuda')\n",
    "    model.to('cuda')\n",
    "\n",
    "with torch.no_grad():\n",
    "    output = model(input_batch)\n",
    "# Imagenet의 1000개 클래스에 대한 신뢰도 점수를 가진, shape이 1000인 텐서 출력\n",
    "print(output[0])\n",
    "# 출력값은 정규화되지 않은 형태입니다. Softmax를 실행하면 확률을 얻을 수 있습니다.\n",
    "print(torch.nn.functional.softmax(output[0], dim=0))\n"
   ]
  },
  {
   "cell_type": "markdown",
   "id": "ac9aef49",
   "metadata": {},
   "source": [
    "### 모델 설명\n",
    "제공되는 ResNeXt 모델들은 9억 4천만개의 공공 이미지를 weakly-supervised 방식으로 사전 학습한 후 ImageNet1K 데이터셋을 사용해 미세 조정(fine-tuning)합니다. 여기서 사용되는 공공 이미지들은 1000개의 ImageNet1K 동의어 집합(synset)에 해당하는 1500개의 해시태그를 가집니다. 모델 학습에 대한 세부 사항은 [“Exploring the Limits of Weakly Supervised Pretraining”](https://arxiv.org/abs/1805.00932)을 참고해주세요.\n",
    "\n",
    "서로 다른 성능을 가진 4개의 ResNeXt 모델이 제공되고 있습니다.\n",
    "\n",
    "| Model              | #Parameters | FLOPS | Top-1 Acc. | Top-5 Acc. |\n",
    "| ------------------ | :---------: | :---: | :--------: | :--------: |\n",
    "| ResNeXt-101 32x8d  | 88M         | 16B   |    82.2    |  96.4      |\n",
    "| ResNeXt-101 32x16d | 193M        | 36B   |    84.2    |  97.2      |\n",
    "| ResNeXt-101 32x32d | 466M        | 87B   |    85.1    |  97.5      |\n",
    "| ResNeXt-101 32x48d | 829M        | 153B  |    85.4    |  97.6      |\n",
    "\n",
    "ResNeXt 모델을 사용하면 사전 학습된 모델을 사용하지 않고 처음부터 학습하는 경우에 비해 ImageNet 데이터셋에서의 학습 정확도가 크게 향상됩니다. ResNext-101 32x48d 모델은 ImageNet 데이터셋을 사용했을 때 85.4%에 달하는 최고 수준의 정확도를 달성했습니다.\n",
    "\n",
    "### 참고문헌\n",
    "\n",
    " - [Exploring the Limits of Weakly Supervised Pretraining](https://arxiv.org/abs/1805.00932)"
   ]
  }
 ],
 "metadata": {},
 "nbformat": 4,
 "nbformat_minor": 5
}
