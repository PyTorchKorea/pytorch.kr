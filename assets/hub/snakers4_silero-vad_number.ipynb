{
 "cells": [
  {
   "cell_type": "markdown",
   "id": "28a2b241",
   "metadata": {},
   "source": [
    "### This notebook is optionally accelerated with a GPU runtime.\n",
    "### If you would like to use this acceleration, please select the menu option \"Runtime\" -> \"Change runtime type\", select \"Hardware Accelerator\" -> \"GPU\" and click \"SAVE\"\n",
    "\n",
    "----------------------------------------------------------------------\n",
    "\n",
    "# Silero Number Detector\n",
    "\n",
    "*Author: Silero AI Team*\n",
    "\n",
    "**Pre-trained Spoken Number Detector**"
   ]
  },
  {
   "cell_type": "code",
   "execution_count": null,
   "id": "e6f502e9",
   "metadata": {},
   "outputs": [],
   "source": [
    "%%bash\n",
    "# this assumes that you have a proper version of PyTorch already installed\n",
    "pip install -q torchaudio soundfile"
   ]
  },
  {
   "cell_type": "code",
   "execution_count": null,
   "id": "f5575782",
   "metadata": {},
   "outputs": [],
   "source": [
    "import torch\n",
    "torch.set_num_threads(1)\n",
    "from pprint import pprint\n",
    "torch.hub.download_url_to_file('https://models.silero.ai/vad_models/en_num.wav', 'en_number_example.wav')\n",
    "\n",
    "model, utils = torch.hub.load(repo_or_dir='snakers4/silero-vad',\n",
    "                              model='silero_number_detector',\n",
    "                              force_reload=True)\n",
    "\n",
    "(get_number_ts,\n",
    " _, read_audio,\n",
    " *_) = utils\n",
    "\n",
    "files_dir = torch.hub.get_dir() + '/snakers4_silero-vad_master/files'\n",
    "\n",
    "wav = read_audio(f'en_number_example.wav')\n",
    "# full audio\n",
    "# get number timestamps from full audio file\n",
    "number_timestamps = get_number_ts(wav, model)\n",
    "\n",
    "pprint(number_timestamps)"
   ]
  },
  {
   "cell_type": "markdown",
   "id": "18fc20d2",
   "metadata": {},
   "source": [
    "### Model Description\n",
    "\n",
    "Silero VAD: pre-trained enterprise-grade Voice Activity Detector (VAD), Number Detector and Language Classifier. Enterprise-grade Speech Products made refreshingly simple (see our STT models). **Each model is published separately**.\n",
    "\n",
    "Currently, there are hardly any high quality / modern / free / public voice activity detectors except for WebRTC Voice Activity Detector (link). WebRTC though starts to show its age and it suffers from many false positives.\n",
    "\n",
    "Also in some cases it is crucial to be able to anonymize large-scale spoken corpora (i.e. remove personal data). Typically personal data is considered to be private / sensitive if it contains (i) a name (ii) some private ID. Name recognition is a highly subjective matter and it depends on locale and business case, but Voice Activity and Number Detection are quite general tasks.\n",
    "\n",
    "**(!!!) Important Notice (!!!)** - the models are intended to run on CPU only and were optimized for performance on 1 CPU thread. Note that the model is quantized.\n",
    "\n",
    "\n",
    "### Supported Languages\n",
    "\n",
    "As of this page update, the following languages are supported:\n",
    "\n",
    "- Russian\n",
    "- English\n",
    "- German\n",
    "- Spanish\n",
    "\n",
    "To see the always up-to-date language list, please visit our [repo](https://github.com/snakers4/silero-vad).\n",
    "\n",
    "### Additional Examples and Benchmarks\n",
    "\n",
    "For additional examples and other model formats please visit this [link](https://github.com/snakers4/silero-vad) and please refer to the extensive examples in the Colab format (including the streaming examples).\n",
    "\n",
    "### References\n",
    "\n",
    "Number detector model architecture is based on similar STT architectures.\n",
    "\n",
    "- [Silero VAD](https://github.com/snakers4/silero-vad)\n",
    "- [Alexander Veysov, \"Toward's an ImageNet Moment for Speech-to-Text\", The Gradient, 2020](https://thegradient.pub/towards-an-imagenet-moment-for-speech-to-text/)\n",
    "- [Alexander Veysov, \"A Speech-To-Text Practitioner’s Criticisms of Industry and Academia\", The Gradient, 2020](https://thegradient.pub/a-speech-to-text-practitioners-criticisms-of-industry-and-academia/)"
   ]
  }
 ],
 "metadata": {},
 "nbformat": 4,
 "nbformat_minor": 5
}
