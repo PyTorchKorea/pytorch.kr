{
 "cells": [
  {
   "cell_type": "markdown",
   "id": "79173752",
   "metadata": {},
   "source": [
    "### This notebook is optionally accelerated with a GPU runtime.\n",
    "### If you would like to use this acceleration, please select the menu option \"Runtime\" -> \"Change runtime type\", select \"Hardware Accelerator\" -> \"GPU\" and click \"SAVE\"\n",
    "\n",
    "----------------------------------------------------------------------\n",
    "\n",
    "# Inception_v3\n",
    "\n",
    "*Author: Pytorch Team*\n",
    "\n",
    "**Also called GoogleNetv3, a famous ConvNet trained on Imagenet from 2015**\n",
    "\n",
    "<img src=\"https://pytorch.org/assets/images/inception_v3.png\" alt=\"alt\" width=\"50%\"/>"
   ]
  },
  {
   "cell_type": "code",
   "execution_count": null,
   "id": "c60fcae3",
   "metadata": {},
   "outputs": [],
   "source": [
    "import torch\n",
    "model = torch.hub.load('pytorch/vision:v0.10.0', 'inception_v3', pretrained=True)\n",
    "model.eval()"
   ]
  },
  {
   "cell_type": "markdown",
   "id": "6a651164",
   "metadata": {},
   "source": [
    "사전 훈련된 모델들을 사용할 때는 동일한 방식으로 정규화된 이미지를 입력으로 넣어야 합니다.\n",
    "즉, 미니 배치(mini-batch)의 3-채널 RGB 이미지들은 `(3 x H x W)`의 형태를 가지며, 해당 `H`와 `W`는 최소 `224` 이상이어야 합니다.\n",
    "각 이미지는 `[0, 1]`의 범위 내에서 불러와야 하며, `mean = [0.485, 0.456, 0.406]` 과 `std = [0.229, 0.224, 0.225]`을 이용해 정규화되어야 합니다.\n",
    "다음은 실행 예제 입니다."
   ]
  },
  {
   "cell_type": "code",
   "execution_count": null,
   "id": "fcda3317",
   "metadata": {},
   "outputs": [],
   "source": [
    "# 파이토치 웹 사이트에서 이미지 다운로드\n",
    "import urllib\n",
    "url, filename = (\"https://github.com/pytorch/hub/raw/master/images/dog.jpg\", \"dog.jpg\")\n",
    "try: urllib.URLopener().retrieve(url, filename)\n",
    "except: urllib.request.urlretrieve(url, filename)"
   ]
  },
  {
   "cell_type": "code",
   "execution_count": null,
   "id": "5af2ed48",
   "metadata": {},
   "outputs": [],
   "source": [
    "# 예시 코드 (torchvision 필요)\n",
    "from PIL import Image\n",
    "from torchvision import transforms\n",
    "input_image = Image.open(filename)\n",
    "preprocess = transforms.Compose([\n",
    "    transforms.Resize(299),\n",
    "    transforms.CenterCrop(299),\n",
    "    transforms.ToTensor(),\n",
    "    transforms.Normalize(mean=[0.485, 0.456, 0.406], std=[0.229, 0.224, 0.225]),\n",
    "])\n",
    "input_tensor = preprocess(input_image)\n",
    "input_batch = input_tensor.unsqueeze(0) # 모델에서 가정하는대로 미니배치 생성\n",
    "\n",
    "# gpu를 사용할 수 있다면, 속도를 위해 입력과 모델을 gpu로 옮김\n",
    "if torch.cuda.is_available():\n",
    "    input_batch = input_batch.to('cuda')\n",
    "    model.to('cuda')\n",
    "\n",
    "with torch.no_grad():\n",
    "    output = model(input_batch)\n",
    "# output은 shape가 [1000]인 Tensor 자료형이며, 이는 Imagenet 데이터셋의 1000개의 각 클래스에 대한 모델의 확신도(confidence)를 나타냄\n",
    "print(output[0])\n",
    "# output은 정규화되지 않았으므로, 확률화하기 위해 softmax 함수를 처리\n",
    "probabilities = torch.nn.functional.softmax(output[0], dim=0)\n",
    "print(probabilities)"
   ]
  },
  {
   "cell_type": "code",
   "execution_count": null,
   "id": "2ae75be7",
   "metadata": {},
   "outputs": [],
   "source": [
    "# ImageNet 데이터셋 레이블 다운로드\n",
    "!wget https://raw.githubusercontent.com/pytorch/hub/master/imagenet_classes.txt"
   ]
  },
  {
   "cell_type": "code",
   "execution_count": null,
   "id": "6b9cf9d6",
   "metadata": {},
   "outputs": [],
   "source": [
    "# 카테고리(클래스) 읽기\n",
    "with open(\"imagenet_classes.txt\", \"r\") as f:\n",
    "    categories = [s.strip() for s in f.readlines()]\n",
    "# 각 이미지에 대한 top 5 카테고리 출력\n",
    "top5_prob, top5_catid = torch.topk(probabilities, 5)\n",
    "for i in range(top5_prob.size(0)):\n",
    "    print(categories[top5_catid[i]], top5_prob[i].item())"
   ]
  },
  {
   "cell_type": "markdown",
   "id": "8903c4cd",
   "metadata": {},
   "source": [
    "### 모델 설명\n",
    "\n",
    "Inception v3는 합성곱 연산을 적절히 분해하고 적극적인 정규화를 통해 추가된 계산을 가능한 한 효율적으로 활용하는 것을 목표로 네트워크를 확장하는 방법에 대한 탐색을 기반으로 합니다. ILSVRC 2012 (ImageNet) 분류 문제에서 본 논문은 당시 기준의 SOTA(state of the art) 모델보다 상당한 성능 향상을 얻었고, 단일 프레임 평가에서 21.2%의 top-1 오류와 5.6%의 top-5 오류를 달성했습니다. 이 결과는 2500만개 이하의 파라미터와 단일 추론 당 50억번의 곱셈-덧셈 연산의 계산 비용으로 달성되었습니다. 또한 4개 모델의 앙상블(ensemble)과 다중-크롭 평가(multi-crop evaluation)을 이용하여, 17.3%의 top-1 오류와 3.6%의 top-5 오류를 평가(validation) 데이터셋에서 달성합니다.\n",
    "사전 훈련된 모델로 ImageNet 데이터셋에서의 단일-크롭 방식으로 오류 비율을 측정한 결과는 아래와 같습니다.\n",
    "\n",
    "| 모델 구조 | Top-1 오류 | Top-5 오류 |\n",
    "| --------------- | ----------- | ----------- |\n",
    "|  inception_v3        | 22.55       | 6.44        |\n",
    "\n",
    "### 참고문헌\n",
    "\n",
    " - [Rethinking the Inception Architecture for Computer Vision](https://arxiv.org/abs/1512.00567)."
   ]
  }
 ],
 "metadata": {},
 "nbformat": 4,
 "nbformat_minor": 5
}
