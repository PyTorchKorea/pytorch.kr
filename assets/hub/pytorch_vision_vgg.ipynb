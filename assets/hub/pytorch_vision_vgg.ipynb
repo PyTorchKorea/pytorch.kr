{
 "cells": [
  {
   "cell_type": "markdown",
   "id": "72333167",
   "metadata": {},
   "source": [
    "### This notebook is optionally accelerated with a GPU runtime.\n",
    "### If you would like to use this acceleration, please select the menu option \"Runtime\" -> \"Change runtime type\", select \"Hardware Accelerator\" -> \"GPU\" and click \"SAVE\"\n",
    "\n",
    "----------------------------------------------------------------------\n",
    "\n",
    "# vgg-nets\n",
    "\n",
    "*Author: Pytorch Team*\n",
    "\n",
    "**Award winning ConvNets from 2014 Imagenet ILSVRC challenge**\n",
    "\n",
    "<img src=\"https://pytorch.org/assets/images/vgg.png\" alt=\"alt\" width=\"50%\"/>"
   ]
  },
  {
   "cell_type": "code",
   "execution_count": null,
   "id": "7f77cd28",
   "metadata": {},
   "outputs": [],
   "source": [
    "import torch\n",
    "model = torch.hub.load('pytorch/vision:v0.10.0', 'vgg11', pretrained=True)\n",
    "# 추가로 아래와 같이 변형된 구조의 모델들이 있습니다\n",
    "# model = torch.hub.load('pytorch/vision:v0.10.0', 'vgg11_bn', pretrained=True)\n",
    "# model = torch.hub.load('pytorch/vision:v0.10.0', 'vgg13', pretrained=True)\n",
    "# model = torch.hub.load('pytorch/vision:v0.10.0', 'vgg13_bn', pretrained=True)\n",
    "# model = torch.hub.load('pytorch/vision:v0.10.0', 'vgg16', pretrained=True)\n",
    "# model = torch.hub.load('pytorch/vision:v0.10.0', 'vgg16_bn', pretrained=True)\n",
    "# model = torch.hub.load('pytorch/vision:v0.10.0', 'vgg19', pretrained=True)\n",
    "# model = torch.hub.load('pytorch/vision:v0.10.0', 'vgg19_bn', pretrained=True)\n",
    "model.eval()"
   ]
  },
  {
   "cell_type": "markdown",
   "id": "f89e709f",
   "metadata": {},
   "source": [
    "모든 사전 훈련된 모델은 훈련때와 같은 방식으로 정규화된 입력 이미지를 주어야합니다.\n",
    "즉, `(3 x H x W)` 모양의 3채널 RGB 이미지의 미니배치에서 `H`와 `W`는 최소 `224`가 될 것으로 예상됩니다.\n",
    "이미지는 `[0, 1]` 범위로 로드한 다음(RGB 채널마다 0~255값으로 표현되므로 이미지를 255로 나눔) `mean = [0.485, 0.456, 0.406]`과 `std = [0.229, 0.224, 0.225]` 값을 사용하여 정규화해야 합니다.\n",
    "\n",
    "다음은 샘플 실행입니다."
   ]
  },
  {
   "cell_type": "code",
   "execution_count": null,
   "id": "82a92178",
   "metadata": {},
   "outputs": [],
   "source": [
    "# 파이토치 웹사이트에서 예제 이미지를 다운로드 합니다\n",
    "import urllib\n",
    "url, filename = (\"https://github.com/pytorch/hub/raw/master/images/dog.jpg\", \"dog.jpg\")\n",
    "try: urllib.URLopener().retrieve(url, filename)\n",
    "except: urllib.request.urlretrieve(url, filename)"
   ]
  },
  {
   "cell_type": "code",
   "execution_count": null,
   "id": "13a66245",
   "metadata": {},
   "outputs": [],
   "source": [
    "# 샘플 실행 (torchvision이 필요합니다)\n",
    "from PIL import Image\n",
    "from torchvision import transforms\n",
    "input_image = Image.open(filename)\n",
    "preprocess = transforms.Compose([\n",
    "    transforms.Resize(256),\n",
    "    transforms.CenterCrop(224),\n",
    "    transforms.ToTensor(),\n",
    "    transforms.Normalize(mean=[0.485, 0.456, 0.406], std=[0.229, 0.224, 0.225]),\n",
    "])\n",
    "input_tensor = preprocess(input_image)\n",
    "input_batch = input_tensor.unsqueeze(0) # 모델의 입력값에 맞춘 미니 배치 생성\n",
    "\n",
    "# 가능하면 속도를 위해서 입력과 모델을 GPU로 이동 합니다\n",
    "if torch.cuda.is_available():\n",
    "    input_batch = input_batch.to('cuda')\n",
    "    model.to('cuda')\n",
    "\n",
    "with torch.no_grad():\n",
    "    output = model(input_batch)\n",
    "# Imagenet의 1000개 클래스에 대한 신뢰도 점수가 있는 1000개의 Tensor입니다.\n",
    "print(output[0])\n",
    "# 출력에 정규화되지 않은 점수가 있습니다. 확률을 얻으려면 소프트맥스를 실행할 수 있습니다.\n",
    "probabilities = torch.nn.functional.softmax(output[0], dim=0)\n",
    "print(probabilities)"
   ]
  },
  {
   "cell_type": "code",
   "execution_count": null,
   "id": "30554691",
   "metadata": {},
   "outputs": [],
   "source": [
    "# ImageNet 라벨 다운로드\n",
    "!wget https://raw.githubusercontent.com/pytorch/hub/master/imagenet_classes.txt"
   ]
  },
  {
   "cell_type": "code",
   "execution_count": null,
   "id": "fc6a79c5",
   "metadata": {},
   "outputs": [],
   "source": [
    "# 카테고리 읽기\n",
    "with open(\"imagenet_classes.txt\", \"r\") as f:\n",
    "    categories = [s.strip() for s in f.readlines()]\n",
    "# Show top categories per image\n",
    "top5_prob, top5_catid = torch.topk(probabilities, 5)\n",
    "for i in range(top5_prob.size(0)):\n",
    "    print(categories[top5_catid[i]], top5_prob[i].item())"
   ]
  },
  {
   "cell_type": "markdown",
   "id": "e1cdfacd",
   "metadata": {},
   "source": [
    "### 모델 설명\n",
    "\n",
    "각 구성 및 bachnorm 버전에 대해서 [Very Deep Convolutional Networks for Large-Scale Image Recognition](https://arxiv.org/abs/1409.1556)에서 제안한 모델에 대한 구현이 있습니다.\n",
    "\n",
    "예를 들어, 논문에 제시된 구성 `A`는 `vgg11`, `B`는 `vgg13`, `D`는 `vgg16`, `E`는 `vgg19`입니다.\n",
    "batchnorm 버전은 `_bn`이 접미사로 붙어있습니다.\n",
    "\n",
    "사전 훈련된 모델이 있는 imagenet 데이터 세트의 1-crop 오류율은 아래에 나열되어 있습니다.\n",
    "\n",
    "| Model structure | Top-1 error | Top-5 error |\n",
    "| --------------- | ----------- | ----------- |\n",
    "|  vgg11          | 30.98       | 11.37       |\n",
    "|  vgg11_bn       | 26.70       | 8.58        |\n",
    "|  vgg13          | 30.07       | 10.75       |\n",
    "|  vgg13_bn       | 28.45       | 9.63        |\n",
    "|  vgg16          | 28.41       | 9.62        |\n",
    "|  vgg16_bn       | 26.63       | 8.50        |\n",
    "|  vgg19          | 27.62       | 9.12        |\n",
    "|  vgg19_bn       | 25.76       | 8.15        |\n",
    "\n",
    "### 참조\n",
    "\n",
    "- [Very Deep Convolutional Networks for Large-Scale Image Recognition](https://arxiv.org/abs/1409.1556)."
   ]
  }
 ],
 "metadata": {},
 "nbformat": 4,
 "nbformat_minor": 5
}
