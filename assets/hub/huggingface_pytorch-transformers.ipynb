{
 "cells": [
  {
   "cell_type": "markdown",
   "id": "83725304",
   "metadata": {},
   "source": [
    "### This notebook is optionally accelerated with a GPU runtime.\n",
    "### If you would like to use this acceleration, please select the menu option \"Runtime\" -> \"Change runtime type\", select \"Hardware Accelerator\" -> \"GPU\" and click \"SAVE\"\n",
    "\n",
    "----------------------------------------------------------------------\n",
    "\n",
    "# PyTorch-Transformers\n",
    "\n",
    "*Author: HuggingFace Team*\n",
    "\n",
    "**PyTorch implementations of popular NLP Transformers**\n",
    "\n",
    "\n",
    "# 모델 설명\n",
    "\n",
    "\n",
    "PyTorch-Transformers (이전엔 `pytorch-pretrained-bert`으로 알려짐) 는 자연어 처리(NLP)를 위한 최신식 사전 학습된 모델들을 모아놓은 라이브러리입니다.\n",
    "\n",
    "라이브러리는 현재 다음 모델들에 대한 파이토치 구현과 사전 학습된 가중치, 사용 스크립트, 변환 유틸리티를 포함하고 있습니다.\n",
    "\n",
    "1. **[BERT](https://github.com/google-research/bert)** 는 Google에서 발표한 [BERT: Pre-training of Deep Bidirectional Transformers for Language Understanding](https://arxiv.org/abs/1810.04805) 논문과 함께 공개되었습니다. (저자: Jacob Devlin, Ming-Wei Chang, Kenton Lee, Kristina Toutanova)\n",
    "2. **[GPT](https://github.com/openai/finetune-transformer-lm)** 는 OpenAI에서 발표한 [Improving Language Understanding by Generative Pre-Training](https://blog.openai.com/language-unsupervised/) 논문과 함께 공개되었습니다. (저자: Alec Radford, Karthik Narasimhan, Tim Salimans, Ilya Sutskever)\n",
    "3. **[GPT-2](https://blog.openai.com/better-language-models/)** 는 OpenAI에서 발표한 [Language Models are Unsupervised Multitask Learners](https://blog.openai.com/better-language-models/) 논문과 함께 공개되었습니다. (저자: Alec Radford*, Jeffrey Wu*, Rewon Child, David Luan, Dario Amodei**, Ilya Sutskever**)\n",
    "4. **[Transformer-XL](https://github.com/kimiyoung/transformer-xl)** 는 Google/CMU에서 발표한 [Transformer-XL: Attentive Language Models Beyond a Fixed-Length Context](https://arxiv.org/abs/1901.02860) 논문과 함께 공개되었습니다. (저자: Zihang Dai*, Zhilin Yang*, Yiming Yang, Jaime Carbonell, Quoc V. Le, Ruslan Salakhutdinov)\n",
    "5. **[XLNet](https://github.com/zihangdai/xlnet/)** 는 Google/CMU에서 발표한 [​XLNet: Generalized Autoregressive Pretraining for Language Understanding](https://arxiv.org/abs/1906.08237) 논문과 함께 공개되었습니다. (저자: Zhilin Yang*, Zihang Dai*, Yiming Yang, Jaime Carbonell, Ruslan Salakhutdinov, Quoc V. Le)\n",
    "6. **[XLM](https://github.com/facebookresearch/XLM/)** 는 Facebook에서 발표한 [Cross-lingual Language Model Pretraining](https://arxiv.org/abs/1901.07291) 논문과 함께 공개되었습니다. (저자: Guillaume Lample, Alexis Conneau)\n",
    "7. **[RoBERTa](https://github.com/pytorch/fairseq/tree/master/examples/roberta)** 는 Facebook에서 발표한 [Robustly Optimized BERT Pretraining Approach](https://arxiv.org/abs/1907.11692) 논문과 함께 공개되었습니다. (저자: Yinhan Liu, Myle Ott, Naman Goyal, Jingfei Du, Mandar Joshi, Danqi Chen, Omer Levy, Mike Lewis, Luke Zettlemoyer, Veselin Stoyanov)\n",
    "8. **[DistilBERT](https://github.com/huggingface/pytorch-transformers/tree/master/examples/distillation)** 는 HuggingFace에서 게시한 [Smaller, faster, cheaper, lighter: Introducing DistilBERT, a distilled version of BERT](https://medium.com/huggingface/distilbert-8cf3380435b) 블로그 포스팅과 함께 발표되었습니다. (저자: Victor Sanh, Lysandre Debut, Thomas Wolf)\n",
    "\n",
    "여기에서 사용되는 구성요소들은 `pytorch-transformers` 라이브러리에 있는  `AutoModel` 과 `AutoTokenizer` 클래스를 기반으로 하고 있습니다.\n",
    "\n",
    "# 요구 사항\n",
    "\n",
    "파이토치 허브에 있는 대부분의 다른 모델들과 다르게, BERT는 별도의 파이썬 패키지들을 설치해야 합니다."
   ]
  },
  {
   "cell_type": "code",
   "execution_count": null,
   "id": "733eb9af",
   "metadata": {},
   "outputs": [],
   "source": [
    "%%bash\n",
    "pip install tqdm boto3 requests regex sentencepiece sacremoses"
   ]
  },
  {
   "cell_type": "markdown",
   "id": "b67a2f7b",
   "metadata": {},
   "source": [
    "# 사용 방법\n",
    "\n",
    "사용 가능한 메소드는 다음과 같습니다:\n",
    "- `config`: 지정한 모델 또는 경로에 해당하는 설정값(configuration)을 반환합니다.\n",
    "- `tokenizer`: 지정한 모델 또는 경로에 해당하는 토크나이저(tokenizer)를 반환합니다.\n",
    "- `model`: 지정한 모델 또는 경로에 해당하는 모델을 반환합니다.\n",
    "- `modelForCausalLM`: 지정한 모델 또는 경로에 해당하는, 언어 모델링 헤드(language modeling head)가 추가된 모델을 반환합니다.\n",
    "- `modelForSequenceClassification`: 지정한 모델 또는 경로에 해당하는, 시퀀스 분류기(sequence classifier)가 추가된 모델을 반환합니다.\n",
    "- `modelForQuestionAnswering`: 지정한 모델 또는 경로에 해당하는, 질의 응답 헤드(question answering head)가 추가된 모델을 반환합니다.\n",
    "\n",
    "여기의 모든 메소드들은 다음 인자를 공유합니다: `pretrained_model_or_path` 는 반환할 인스턴스에 대한 사전 학습된 모델 또는 경로를 나타내는 문자열입니다. 각 모델에 대해 사용할 수 있는 다양한 체크포인트(checkpoint)가 있고, 자세한 내용은 아래에서 확인하실 수 있습니다:\n",
    "\n",
    "\n",
    "\n",
    "\n",
    "사용 가능한 모델은 [pytorch-transformers 문서의 pre-trained models 섹션](https://huggingface.co/pytorch-transformers/pretrained_models.html)에 나열되어 있습니다.\n",
    "\n",
    "# 문서\n",
    "\n",
    "다음은 각 사용 가능한 메소드들의 사용법을 자세히 설명하는 몇 가지 예시입니다.\n",
    "\n",
    "\n",
    "## 토크나이저\n",
    "\n",
    "토크나이저 객체로 문자열을 모델에서 사용할 수 있는 토큰으로 변환할 수 있습니다. 각 모델마다 고유한 토크나이저가 있고, 일부 토큰화 메소드는 토크나이저에 따라 다릅니다. 전체 문서는 [여기](https://huggingface.co/pytorch-transformers/main_classes/tokenizer.html)에서 확인해보실 수 있습니다."
   ]
  },
  {
   "cell_type": "code",
   "execution_count": null,
   "id": "3b7bb256",
   "metadata": {
    "attributes": {
     "classes": [
      "py"
     ],
     "id": ""
    }
   },
   "outputs": [],
   "source": [
    "import torch\n",
    "tokenizer = torch.hub.load('huggingface/pytorch-transformers', 'tokenizer', 'bert-base-uncased')    # S3 및 캐시에서 어휘(vocabulary)를 다운로드합니다.\n",
    "tokenizer = torch.hub.load('huggingface/pytorch-transformers', 'tokenizer', './test/bert_saved_model/')  # `save_pretrained('./test/saved_model/')`를 통해 토크나이저를 저장한 경우에 로딩하는 예시입니다."
   ]
  },
  {
   "cell_type": "markdown",
   "id": "68b234e8",
   "metadata": {},
   "source": [
    "## 모델\n",
    "\n",
    "모델 객체는 `nn.Module` 를 상속하는 모델의 인스턴스입니다. 각 모델은 로컬 파일 혹은 디렉터리나 사전 학습할 때 사용된 설정값(앞서 설명한 `config`)으로부터 저장/로딩하는 방법이 함께 제공됩니다. 각 모델은 다르게 동작하며, 여러 다른 모델들의 전체 개요는 [여기](https://huggingface.co/pytorch-transformers/pretrained_models.html)에서 확인해보실 수 있습니다."
   ]
  },
  {
   "cell_type": "code",
   "execution_count": null,
   "id": "a1f6a7a8",
   "metadata": {
    "attributes": {
     "classes": [
      "py"
     ],
     "id": ""
    }
   },
   "outputs": [],
   "source": [
    "import torch\n",
    "model = torch.hub.load('huggingface/pytorch-transformers', 'model', 'bert-base-uncased')    # S3와 캐시로부터 모델과 설정값을 다운로드합니다.\n",
    "model = torch.hub.load('huggingface/pytorch-transformers', 'model', './test/bert_model/')  # `save_pretrained('./test/saved_model/')`를 통해 모델을 저장한 경우에 로딩하는 예시입니다.\n",
    "model = torch.hub.load('huggingface/pytorch-transformers', 'model', 'bert-base-uncased', output_attentions=True)  # 설정값을 업데이트하여 로딩합니다.\n",
    "assert model.config.output_attentions == True\n",
    "# 파이토치 모델 대신 텐서플로우 체크포인트 파일로부터 로딩합니다. (느림)\n",
    "config = AutoConfig.from_json_file('./tf_model/bert_tf_model_config.json')\n",
    "model = torch.hub.load('huggingface/pytorch-transformers', 'model', './tf_model/bert_tf_checkpoint.ckpt.index', from_tf=True, config=config)"
   ]
  },
  {
   "cell_type": "markdown",
   "id": "a486706f",
   "metadata": {},
   "source": [
    "## 언어 모델링 헤드가 추가된 모델\n",
    "\n",
    "앞서 언급한, 언어 모델링 헤드가 추가된 `model` 인스턴스입니다."
   ]
  },
  {
   "cell_type": "code",
   "execution_count": null,
   "id": "dfb95c9b",
   "metadata": {
    "attributes": {
     "classes": [
      "py"
     ],
     "id": ""
    }
   },
   "outputs": [],
   "source": [
    "import torch\n",
    "model = torch.hub.load('huggingface/transformers', 'modelForCausalLM', 'gpt2')    # huggingface.co와 캐시로부터 모델과 설정값을 다운로드합니다.\n",
    "model = torch.hub.load('huggingface/transformers', 'modelForCausalLM', './test/saved_model/')  # `save_pretrained('./test/saved_model/')`를 통해 모델을 저장한 경우에 로딩하는 예시입니다.\n",
    "model = torch.hub.load('huggingface/transformers', 'modelForCausalLM', 'gpt2', output_attentions=True)  # 설정값을 업데이트하여 로딩합니다.\n",
    "assert model.config.output_attentions == True\n",
    "# 파이토치 모델 대신 텐서플로우 체크포인트 파일로부터 로딩합니다. (느림)\n",
    "config = AutoConfig.from_pretrained('./tf_model/gpt_tf_model_config.json')\n",
    "model = torch.hub.load('huggingface/transformers', 'modelForCausalLM', './tf_model/gpt_tf_checkpoint.ckpt.index', from_tf=True, config=config)"
   ]
  },
  {
   "cell_type": "markdown",
   "id": "22cf1bc8",
   "metadata": {},
   "source": [
    "## 시퀀스 분류기가 추가된 모델\n",
    "\n",
    "앞서 언급한, 시퀀스 분류기가 추가된 `model` 인스턴스입니다."
   ]
  },
  {
   "cell_type": "code",
   "execution_count": null,
   "id": "311dde68",
   "metadata": {
    "attributes": {
     "classes": [
      "py"
     ],
     "id": ""
    }
   },
   "outputs": [],
   "source": [
    "import torch\n",
    "model = torch.hub.load('huggingface/pytorch-transformers', 'modelForSequenceClassification', 'bert-base-uncased')    # S3와 캐시로부터 모델과 설정값을 다운로드합니다.\n",
    "model = torch.hub.load('huggingface/pytorch-transformers', 'modelForSequenceClassification', './test/bert_model/')  # `save_pretrained('./test/saved_model/')`를 통해 모델을 저장한 경우에 로딩하는 예시입니다.\n",
    "model = torch.hub.load('huggingface/pytorch-transformers', 'modelForSequenceClassification', 'bert-base-uncased', output_attention=True)  # 설정값을 업데이트하여 로딩합니다.\n",
    "assert model.config.output_attention == True\n",
    "# 파이토치 모델 대신 텐서플로우 체크포인트 파일로부터 로딩합니다. (느림)\n",
    "config = AutoConfig.from_json_file('./tf_model/bert_tf_model_config.json')\n",
    "model = torch.hub.load('huggingface/pytorch-transformers', 'modelForSequenceClassification', './tf_model/bert_tf_checkpoint.ckpt.index', from_tf=True, config=config)"
   ]
  },
  {
   "cell_type": "markdown",
   "id": "ab8799d4",
   "metadata": {},
   "source": [
    "## 질의 응답 헤드가 추가된 모델\n",
    "\n",
    "앞서 언급한, 질의 응답 헤드가 추가된 `model` 인스턴스입니다."
   ]
  },
  {
   "cell_type": "code",
   "execution_count": null,
   "id": "62dcc624",
   "metadata": {
    "attributes": {
     "classes": [
      "py"
     ],
     "id": ""
    }
   },
   "outputs": [],
   "source": [
    "import torch\n",
    "model = torch.hub.load('huggingface/pytorch-transformers', 'modelForQuestionAnswering', 'bert-base-uncased')    # S3와 캐시로부터 모델과 설정값을 다운로드합니다.\n",
    "model = torch.hub.load('huggingface/pytorch-transformers', 'modelForQuestionAnswering', './test/bert_model/')  # `save_pretrained('./test/saved_model/')`를 통해 모델을 저장한 경우에 로딩하는 예시입니다.\n",
    "model = torch.hub.load('huggingface/pytorch-transformers', 'modelForQuestionAnswering', 'bert-base-uncased', output_attention=True)  # 설정값을 업데이트하여 로딩합니다.\n",
    "assert model.config.output_attention == True\n",
    "# 파이토치 모델 대신 텐서플로우 체크포인트 파일로부터 로딩합니다. (느림)\n",
    "config = AutoConfig.from_json_file('./tf_model/bert_tf_model_config.json')\n",
    "model = torch.hub.load('huggingface/pytorch-transformers', 'modelForQuestionAnswering', './tf_model/bert_tf_checkpoint.ckpt.index', from_tf=True, config=config)"
   ]
  },
  {
   "cell_type": "markdown",
   "id": "642510fc",
   "metadata": {},
   "source": [
    "## 설정값\n",
    "\n",
    "설정값은 선택 사항입니다. 설정값 객체는 모델에 관한 정보, 예를 들어 헤드나 레이어의 개수, 모델이 어텐션(attentions) 또는 은닉 상태(hidden states)를 출력해야 하는지, 또는 모델이 TorchScript에 맞게 조정되어야 하는지 여부에 대한 정보를 가지고 있습니다. 각 모델에 따라 다양한 매개변수를 사용할 수 있습니다. 전체 문서는 [여기](https://huggingface.co/pytorch-transformers/main_classes/configuration.html)에서 확인해보실 수 있습니다."
   ]
  },
  {
   "cell_type": "code",
   "execution_count": null,
   "id": "093865d3",
   "metadata": {
    "attributes": {
     "classes": [
      "py"
     ],
     "id": ""
    }
   },
   "outputs": [],
   "source": [
    "import torch\n",
    "config = torch.hub.load('huggingface/pytorch-transformers', 'config', 'bert-base-uncased')  # S3와 캐시로부터 모델과 설정값을 다운로드합니다.\n",
    "config = torch.hub.load('huggingface/pytorch-transformers', 'config', './test/bert_saved_model/')  # `save_pretrained('./test/saved_model/')`를 통해 모델을 저장한 경우에 로딩하는 예시입니다.\n",
    "config = torch.hub.load('huggingface/pytorch-transformers', 'config', './test/bert_saved_model/my_configuration.json')\n",
    "config = torch.hub.load('huggingface/pytorch-transformers', 'config', 'bert-base-uncased', output_attention=True, foo=False)\n",
    "assert config.output_attention == True\n",
    "config, unused_kwargs = torch.hub.load('huggingface/pytorch-transformers', 'config', 'bert-base-uncased', output_attention=True, foo=False, return_unused_kwargs=True)\n",
    "assert config.output_attention == True\n",
    "assert unused_kwargs == {'foo': False}\n",
    "\n",
    "# 설정값을 사용하여 모델을 로딩합니다.\n",
    "config = torch.hub.load('huggingface/pytorch-transformers', 'config', 'bert-base-uncased')\n",
    "config.output_attentions = True\n",
    "config.output_hidden_states = True\n",
    "model = torch.hub.load('huggingface/pytorch-transformers', 'model', 'bert-base-uncased', config=config)\n",
    "# 모델은 이제 어텐션과 은닉 상태도 출력하도록 설정되었습니다.\n"
   ]
  },
  {
   "cell_type": "markdown",
   "id": "34b459d4",
   "metadata": {},
   "source": [
    "# 사용 예시\n",
    "\n",
    "다음은 입력 텍스트를 토큰화한 후 BERT 모델에 입력으로 넣어서 계산된 은닉 상태를 가져오거나, 언어 모델링 BERT 모델을 이용하여 마스킹된 토큰들을 예측하는 방법에 대한 예시입니다.\n",
    "\n",
    "## 먼저, 입력을 토큰화하기"
   ]
  },
  {
   "cell_type": "code",
   "execution_count": null,
   "id": "ac532c79",
   "metadata": {},
   "outputs": [],
   "source": [
    "import torch\n",
    "tokenizer = torch.hub.load('huggingface/pytorch-transformers', 'tokenizer', 'bert-base-cased')\n",
    "\n",
    "text_1 = \"Who was Jim Henson ?\"\n",
    "text_2 = \"Jim Henson was a puppeteer\"\n",
    "\n",
    "# 주위에 특수 토큰이 있는 입력을 토큰화합니다. (BERT에서는 처음과 끝에 각각 [CLS]와 [SEP] 토큰이 있습니다.)\n",
    "indexed_tokens = tokenizer.encode(text_1, text_2, add_special_tokens=True)"
   ]
  },
  {
   "cell_type": "markdown",
   "id": "885fdb92",
   "metadata": {},
   "source": [
    "## `BertModel`을 사용하여, 입력 문장을 마지막 레이어 은닉 상태의 시퀀스로 인코딩하기"
   ]
  },
  {
   "cell_type": "code",
   "execution_count": null,
   "id": "fb811112",
   "metadata": {},
   "outputs": [],
   "source": [
    "# 첫번째 문장 A와 두번째 문장 B의 인덱스를 정의합니다. (논문 참조)\n",
    "segments_ids = [0, 0, 0, 0, 0, 0, 0, 0, 1, 1, 1, 1, 1, 1, 1, 1]\n",
    "\n",
    "# 입력값을 PyTorch tensor로 변환합니다.\n",
    "segments_tensors = torch.tensor([segments_ids])\n",
    "tokens_tensor = torch.tensor([indexed_tokens])\n",
    "\n",
    "model = torch.hub.load('huggingface/pytorch-transformers', 'model', 'bert-base-cased')\n",
    "\n",
    "with torch.no_grad():\n",
    "    encoded_layers, _ = model(tokens_tensor, token_type_ids=segments_tensors)"
   ]
  },
  {
   "cell_type": "markdown",
   "id": "d515ba9a",
   "metadata": {},
   "source": [
    "## `modelForMaskedLM`을 사용하여, BERT로 마스킹된 토큰 예측하기"
   ]
  },
  {
   "cell_type": "code",
   "execution_count": null,
   "id": "d9b83d2b",
   "metadata": {},
   "outputs": [],
   "source": [
    "# `BertForMaskedLM`를 통해 예측할 토큰을 마스킹(마스크 토큰으로 변환)합니다.\n",
    "masked_index = 8\n",
    "indexed_tokens[masked_index] = tokenizer.mask_token_id\n",
    "tokens_tensor = torch.tensor([indexed_tokens])\n",
    "\n",
    "masked_lm_model = torch.hub.load('huggingface/pytorch-transformers', 'modelForMaskedLM', 'bert-base-cased')\n",
    "\n",
    "with torch.no_grad():\n",
    "    predictions = masked_lm_model(tokens_tensor, token_type_ids=segments_tensors)\n",
    "\n",
    "# 예측된 토큰을 가져옵니다.\n",
    "predicted_index = torch.argmax(predictions[0][0], dim=1)[masked_index].item()\n",
    "predicted_token = tokenizer.convert_ids_to_tokens([predicted_index])[0]\n",
    "assert predicted_token == 'Jim'"
   ]
  },
  {
   "cell_type": "markdown",
   "id": "3f38217d",
   "metadata": {},
   "source": [
    "## `modelForQuestionAnswering`을 사용하여, BERT로 질의 응답하기"
   ]
  },
  {
   "cell_type": "code",
   "execution_count": null,
   "id": "be5c1c38",
   "metadata": {},
   "outputs": [],
   "source": [
    "question_answering_model = torch.hub.load('huggingface/pytorch-transformers', 'modelForQuestionAnswering', 'bert-large-uncased-whole-word-masking-finetuned-squad')\n",
    "question_answering_tokenizer = torch.hub.load('huggingface/pytorch-transformers', 'tokenizer', 'bert-large-uncased-whole-word-masking-finetuned-squad')\n",
    "\n",
    "# 형식은 단락이 먼저 주어지고, 그 다음에 질문이 주어지는 형식입니다.\n",
    "text_1 = \"Jim Henson was a puppeteer\"\n",
    "text_2 = \"Who was Jim Henson ?\"\n",
    "indexed_tokens = question_answering_tokenizer.encode(text_1, text_2, add_special_tokens=True)\n",
    "segments_ids = [0, 0, 0, 0, 0, 0, 0, 1, 1, 1, 1, 1, 1, 1]\n",
    "segments_tensors = torch.tensor([segments_ids])\n",
    "tokens_tensor = torch.tensor([indexed_tokens])\n",
    "\n",
    "# 시작 및 종료 위치에 대한 로짓(logits)을 예측합니다.\n",
    "with torch.no_grad():\n",
    "    out = question_answering_model(tokens_tensor, token_type_ids=segments_tensors)\n",
    "\n",
    "# 가장 높은 로짓을 가진 예측을 가져옵니다.\n",
    "answer = question_answering_tokenizer.decode(indexed_tokens[torch.argmax(out.start_logits):torch.argmax(out.end_logits)+1])\n",
    "assert answer == \"puppeteer\"\n",
    "\n",
    "# 또는 시작 및 종료 위치에 대한 교차 엔트로피 손실의 총합을 가져옵니다. (이 코드가 학습 시에 사용되는 경우 미리 모델을 학습 모드로 설정해야 합니다.)\n",
    "start_positions, end_positions = torch.tensor([12]), torch.tensor([14])\n",
    "multiple_choice_loss = question_answering_model(tokens_tensor, token_type_ids=segments_tensors, start_positions=start_positions, end_positions=end_positions)"
   ]
  },
  {
   "cell_type": "markdown",
   "id": "0bb85329",
   "metadata": {},
   "source": [
    "## `modelForSequenceClassification`을 사용하여, BERT로 패러프레이즈(paraphrase) 분류하기"
   ]
  },
  {
   "cell_type": "code",
   "execution_count": null,
   "id": "87322590",
   "metadata": {},
   "outputs": [],
   "source": [
    "sequence_classification_model = torch.hub.load('huggingface/pytorch-transformers', 'modelForSequenceClassification', 'bert-base-cased-finetuned-mrpc')\n",
    "sequence_classification_tokenizer = torch.hub.load('huggingface/pytorch-transformers', 'tokenizer', 'bert-base-cased-finetuned-mrpc')\n",
    "\n",
    "text_1 = \"Jim Henson was a puppeteer\"\n",
    "text_2 = \"Who was Jim Henson ?\"\n",
    "indexed_tokens = sequence_classification_tokenizer.encode(text_1, text_2, add_special_tokens=True)\n",
    "segments_ids = [0, 0, 0, 0, 0, 0, 0, 0, 1, 1, 1, 1, 1, 1, 1, 1]\n",
    "segments_tensors = torch.tensor([segments_ids])\n",
    "tokens_tensor = torch.tensor([indexed_tokens])\n",
    "\n",
    "# 시퀀스 분류를 위한 로짓을 예측합니다.\n",
    "with torch.no_grad():\n",
    "    seq_classif_logits = sequence_classification_model(tokens_tensor, token_type_ids=segments_tensors)\n",
    "\n",
    "predicted_labels = torch.argmax(seq_classif_logits[0]).item()\n",
    "\n",
    "assert predicted_labels == 0  # MRPC 데이터셋에서, 이는 두 문장이 서로 바꾸어 표현할 수 없다는 것을 뜻합니다.\n",
    "\n",
    "# 또는 시퀀스 분류에 대한 손실을 가져옵니다. (이 코드가 학습 시에 사용되는 경우 미리 모델을 학습 모드로 설정해야 합니다.)\n",
    "labels = torch.tensor([1])\n",
    "seq_classif_loss = sequence_classification_model(tokens_tensor, token_type_ids=segments_tensors, labels=labels)"
   ]
  }
 ],
 "metadata": {},
 "nbformat": 4,
 "nbformat_minor": 5
}
