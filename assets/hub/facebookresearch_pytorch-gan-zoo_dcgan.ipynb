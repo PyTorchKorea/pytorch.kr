{
 "cells": [
  {
   "cell_type": "markdown",
   "id": "677eed88",
   "metadata": {},
   "source": [
    "### This notebook is optionally accelerated with a GPU runtime.\n",
    "### If you would like to use this acceleration, please select the menu option \"Runtime\" -> \"Change runtime type\", select \"Hardware Accelerator\" -> \"GPU\" and click \"SAVE\"\n",
    "\n",
    "----------------------------------------------------------------------\n",
    "\n",
    "# DCGAN on FashionGen\n",
    "\n",
    "*Author: FAIR HDGAN*\n",
    "\n",
    "**64x64 이미지 생성을 위한 기본 이미지 생성 모델**\n",
    "\n",
    "<img src=\"https://pytorch.org/assets/images/dcgan_fashionGen.jpg\" alt=\"alt\" width=\"50%\"/>"
   ]
  },
  {
   "cell_type": "code",
   "execution_count": null,
   "id": "9158338c",
   "metadata": {},
   "outputs": [],
   "source": [
    "import torch\n",
    "use_gpu = True if torch.cuda.is_available() else False\n",
    "\n",
    "model = torch.hub.load('facebookresearch/pytorch_GAN_zoo:hub', 'DCGAN', pretrained=True, useGPU=use_gpu)"
   ]
  },
  {
   "cell_type": "markdown",
   "id": "2552eb0d",
   "metadata": {},
   "source": [
    "모델에 입력하는 잡음(noise) 벡터의 크기는 `(N, 120)` 이며 여기서 `N`은 생성하고자 하는 이미지의 개수입니다. 데이터 생성은 `.buildNoiseData` 함수를 사용하여 데이터를 생성할 수 있습니다. 모델의 `.test` 함수를 사용하면 잡음 벡터를 입력받아 이미지를 생성합니다."
   ]
  },
  {
   "cell_type": "code",
   "execution_count": null,
   "id": "e945b2b8",
   "metadata": {},
   "outputs": [],
   "source": [
    "num_images = 64\n",
    "noise, _ = model.buildNoiseData(num_images)\n",
    "with torch.no_grad():\n",
    "    generated_images = model.test(noise)\n",
    "\n",
    "# torchvision 과 matplotlib 를 사용하여 생성된 이미지들을 시각화합니다.\n",
    "import matplotlib.pyplot as plt\n",
    "import torchvision\n",
    "plt.imshow(torchvision.utils.make_grid(generated_images).permute(1, 2, 0).cpu().numpy())\n",
    "# plt.show()"
   ]
  },
  {
   "cell_type": "markdown",
   "id": "240f8b74",
   "metadata": {},
   "source": [
    "왼쪽에 있는 이미지와 유사하다는것을 볼 수 있습니다.\n",
    "\n",
    "만약 자기만의 DCGAN과 다른 GAN을 처음부터 학습시키고 싶다면, [PyTorch GAN Zoo](https://github.com/facebookresearch/pytorch_GAN_zoo) 를 참고하시기 바랍니다.\n",
    "\n",
    "### 모델 설명\n",
    "\n",
    "컴퓨터 비전 분야에서 생성 모델은 주어진 입력에 대한 이미지를 생성하도록 훈련된 네트워크(networks)입니다. 본 예제에서는 무작위 벡터와 실제 이미지 생성 간의 연결하는 방법을 배우는 GANs (Generative Adversarial Networks) 으로 특정 종류의 생성 네트워크를 살펴봅니다.\n",
    "\n",
    "DCGAN은 2015년 Radford 등이 설계한 모델 구조입니다. 상세한 내용은 [Unsupervised Representation Learning with Deep Convolutional Generative Adversarial Networks](https://arxiv.org/abs/1511.06434) 논문에서 확인할 수 있습니다. 모델은 GAN 구조이며 저해상도 이미지 (최대 64x64) 생성에 매우 간편하고 효율적입니다.\n",
    "\n",
    "\n",
    "### 요구 사항\n",
    "\n",
    "- 현재는 오직 Python 3 에서만 지원됩니다.\n",
    "\n",
    "### 참고문헌\n",
    "\n",
    "- [Unsupervised Representation Learning with Deep Convolutional Generative Adversarial Networks](https://arxiv.org/abs/1511.06434)"
   ]
  }
 ],
 "metadata": {},
 "nbformat": 4,
 "nbformat_minor": 5
}
