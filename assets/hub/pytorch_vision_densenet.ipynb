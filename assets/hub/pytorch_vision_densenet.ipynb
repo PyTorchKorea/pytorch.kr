{
 "cells": [
  {
   "cell_type": "markdown",
   "id": "bde4b266",
   "metadata": {},
   "source": [
    "### This notebook is optionally accelerated with a GPU runtime.\n",
    "### If you would like to use this acceleration, please select the menu option \"Runtime\" -> \"Change runtime type\", select \"Hardware Accelerator\" -> \"GPU\" and click \"SAVE\"\n",
    "\n",
    "----------------------------------------------------------------------\n",
    "\n",
    "# Densenet\n",
    "\n",
    "*Author: Pytorch Team*\n",
    "\n",
    "**Dense Convolutional Network (DenseNet), connects each layer to every other layer in a feed-forward fashion.**\n",
    "\n",
    "_ | _\n",
    "- | -\n",
    "![alt](https://pytorch.org/assets/images/densenet1.png) | ![alt](https://pytorch.org/assets/images/densenet2.png)"
   ]
  },
  {
   "cell_type": "code",
   "execution_count": null,
   "id": "c57772de",
   "metadata": {},
   "outputs": [],
   "source": [
    "import torch\n",
    "model = torch.hub.load('pytorch/vision:v0.10.0', 'densenet121', pretrained=True)\n",
    "# or any of these variants\n",
    "# model = torch.hub.load('pytorch/vision:v0.10.0', 'densenet169', pretrained=True)\n",
    "# model = torch.hub.load('pytorch/vision:v0.10.0', 'densenet201', pretrained=True)\n",
    "# model = torch.hub.load('pytorch/vision:v0.10.0', 'densenet161', pretrained=True)\n",
    "model.eval()"
   ]
  },
  {
   "cell_type": "markdown",
   "id": "f152fb58",
   "metadata": {},
   "source": [
    "사전에 학습된 모든 모델은 동일한 방식으로 정규화된 입력 이미지,\n",
    "즉, `H` 와 `W` 는 최소 `224` 이상인 `(3 x H x W)` 형태의 3-채널 RGB 이미지의 미니 배치를 요구합니다.\n",
    "이미지를 `[0, 1]` 범위에서 로드한 다음 `mean = [0.485, 0.456, 0.406]`\n",
    "과 `std = [0.229, 0.224, 0.225]` 를 통해 정규화합니다.\n",
    "\n",
    "실행 예시입니다."
   ]
  },
  {
   "cell_type": "code",
   "execution_count": null,
   "id": "8ab2d10f",
   "metadata": {},
   "outputs": [],
   "source": [
    "# 파이토치 웹사이트에서 예제 이미지 다운로드\n",
    "import urllib\n",
    "url, filename = (\"https://github.com/pytorch/hub/raw/master/images/dog.jpg\", \"dog.jpg\")\n",
    "try: urllib.URLopener().retrieve(url, filename)\n",
    "except: urllib.request.urlretrieve(url, filename)"
   ]
  },
  {
   "cell_type": "code",
   "execution_count": null,
   "id": "7e7962b6",
   "metadata": {},
   "outputs": [],
   "source": [
    "# 실행 예시 (torchvision 필요)\n",
    "from PIL import Image\n",
    "from torchvision import transforms\n",
    "input_image = Image.open(filename)\n",
    "preprocess = transforms.Compose([\n",
    "    transforms.Resize(256),\n",
    "    transforms.CenterCrop(224),\n",
    "    transforms.ToTensor(),\n",
    "    transforms.Normalize(mean=[0.485, 0.456, 0.406], std=[0.229, 0.224, 0.225]),\n",
    "])\n",
    "input_tensor = preprocess(input_image)\n",
    "input_batch = input_tensor.unsqueeze(0) # 모델에서 요구되는 미니배치 생성\n",
    "\n",
    "# 가능하다면 속도를 위해 입력과 모델을 GPU로 옮깁니다\n",
    "if torch.cuda.is_available():\n",
    "    input_batch = input_batch.to('cuda')\n",
    "    model.to('cuda')\n",
    "\n",
    "with torch.no_grad():\n",
    "    output = model(input_batch)\n",
    "# shape이 1000이며 ImageNet의 1000개 클래스에 대한 신뢰도 점수가 있는 텐서\n",
    "print(output[0])\n",
    "# 출력에 정규화되지 않은 점수가 있습니다. 확률을 얻으려면 소프트맥스를 실행하세요.\n",
    "probabilities = torch.nn.functional.softmax(output[0], dim=0)\n",
    "print(probabilities)"
   ]
  },
  {
   "cell_type": "code",
   "execution_count": null,
   "id": "2105c7bc",
   "metadata": {},
   "outputs": [],
   "source": [
    "# ImageNet 레이블 다운로드\n",
    "!wget https://raw.githubusercontent.com/pytorch/hub/master/imagenet_classes.txt"
   ]
  },
  {
   "cell_type": "code",
   "execution_count": null,
   "id": "a054ae42",
   "metadata": {},
   "outputs": [],
   "source": [
    "# 카테고리 읽기\n",
    "with open(\"imagenet_classes.txt\", \"r\") as f:\n",
    "    categories = [s.strip() for s in f.readlines()]\n",
    "# 이미지 별 Top5 카테고리 조회\n",
    "top5_prob, top5_catid = torch.topk(probabilities, 5)\n",
    "for i in range(top5_prob.size(0)):\n",
    "    print(categories[top5_catid[i]], top5_prob[i].item())"
   ]
  },
  {
   "cell_type": "markdown",
   "id": "6c2642af",
   "metadata": {},
   "source": [
    "### 모델 설명\n",
    "\n",
    "Dense Convolutional Network (DenseNet)는 순전파(feed-forward) 방식으로 각 레이어를 다른 모든 레이어과 연결합니다. L 계층의 기존 합성곱 신경망이 L개의 연결 - 각 층과 다음 층 사이의 하나 - 인 반면 우리의 신경망은 L(L+1)/2 직접 연결을 가집니다. 각 계층에, 모든 선행 계층의 (feature-map)형상 맵은 입력으로 사용되며, 자체 형상 맵은 모든 후속 계층에 대한 입력으로 사용됩니다. DenseNets는 몇 가지 강력한 장점을 가집니다: 그레디언트가 사라지는 문제를 완화시키고, 특징 전파를 강화하며, 특징 재사용을 권장하며, 매개 변수의 수를 크게 줄입니다.\n",
    "\n",
    "사전 학습된 모델을 사용한 imagenet 데이터셋의 1-crop 오류율은 다음 표와 같습니다.\n",
    "\n",
    "| Model structure | Top-1 error | Top-5 error |\n",
    "| --------------- | ----------- | ----------- |\n",
    "|  densenet121        | 25.35       | 7.83        |\n",
    "|  densenet169        | 24.00       | 7.00        |\n",
    "|  densenet201        | 22.80       | 6.43        |\n",
    "|  densenet161        | 22.35       | 6.20        |\n",
    "\n",
    "### 참고 자료\n",
    "\n",
    " - [Densely Connected Convolutional Networks](https://arxiv.org/abs/1608.06993)."
   ]
  }
 ],
 "metadata": {},
 "nbformat": 4,
 "nbformat_minor": 5
}
