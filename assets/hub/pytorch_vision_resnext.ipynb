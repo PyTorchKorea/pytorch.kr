{
 "cells": [
  {
   "cell_type": "markdown",
   "id": "a080faf1",
   "metadata": {},
   "source": [
    "### This notebook is optionally accelerated with a GPU runtime.\n",
    "### If you would like to use this acceleration, please select the menu option \"Runtime\" -> \"Change runtime type\", select \"Hardware Accelerator\" -> \"GPU\" and click \"SAVE\"\n",
    "\n",
    "----------------------------------------------------------------------\n",
    "\n",
    "# ResNext\n",
    "\n",
    "*Author: Pytorch Team*\n",
    "\n",
    "**Next generation ResNets, more efficient and accurate**\n",
    "\n",
    "<img src=\"https://pytorch.org/assets/images/resnext.png\" alt=\"alt\" width=\"50%\"/>"
   ]
  },
  {
   "cell_type": "code",
   "execution_count": null,
   "id": "2fac32f2",
   "metadata": {},
   "outputs": [],
   "source": [
    "import torch\n",
    "model = torch.hub.load('pytorch/vision:v0.10.0', 'resnext50_32x4d', pretrained=True)\n",
    "# or\n",
    "# model = torch.hub.load('pytorch/vision:v0.10.0', 'resnext101_32x8d', pretrained=True)\n",
    "model.eval()"
   ]
  },
  {
   "cell_type": "markdown",
   "id": "791d9126",
   "metadata": {},
   "source": [
    "사전 훈련된 모델들을 사용할 때는 동일한 방식으로 정규화된 이미지를 입력으로 넣어야 합니다.\n",
    "즉, 미니 배치(mini-batch)의 3-채널 RGB 이미지들은 `(3 x H x W)`의 형태를 가지며, 해당 `H`와 `W`는 최소 `224` 이상이어야 합니다.\n",
    "각 이미지는 `[0, 1]`의 범위 내에서 불러와야 하며, `mean = [0.485, 0.456, 0.406]` 과 `std = [0.229, 0.224, 0.225]`을 이용해 정규화되어야 합니다.\n",
    "다음은 실행 예제 입니다."
   ]
  },
  {
   "cell_type": "code",
   "execution_count": null,
   "id": "3f4f56fe",
   "metadata": {},
   "outputs": [],
   "source": [
    "# 파이토치 웹 사이트에서 이미지 다운로드\n",
    "import urllib\n",
    "url, filename = (\"https://github.com/pytorch/hub/raw/master/images/dog.jpg\", \"dog.jpg\")\n",
    "try: urllib.URLopener().retrieve(url, filename)\n",
    "except: urllib.request.urlretrieve(url, filename)"
   ]
  },
  {
   "cell_type": "code",
   "execution_count": null,
   "id": "c40970b3",
   "metadata": {},
   "outputs": [],
   "source": [
    "# 예시 코드 (torchvision 필요)\n",
    "from PIL import Image\n",
    "from torchvision import transforms\n",
    "input_image = Image.open(filename)\n",
    "preprocess = transforms.Compose([\n",
    "    transforms.Resize(256),\n",
    "    transforms.CenterCrop(224),\n",
    "    transforms.ToTensor(),\n",
    "    transforms.Normalize(mean=[0.485, 0.456, 0.406], std=[0.229, 0.224, 0.225]),\n",
    "])\n",
    "input_tensor = preprocess(input_image)\n",
    "input_batch = input_tensor.unsqueeze(0) # 모델에서 가정하는 대로 미니 배치 생성\n",
    "\n",
    "# gpu를 사용할 수 있다면, 속도를 위해 입력과 모델을 gpu로 옮김\n",
    "if torch.cuda.is_available():\n",
    "    input_batch = input_batch.to('cuda')\n",
    "    model.to('cuda')\n",
    "\n",
    "with torch.no_grad():\n",
    "    output = model(input_batch)\n",
    "# output은 shape가 [1000]인 Tensor 자료형이며, 이는 ImageNet 데이터셋의 1000개의 각 클래스에 대한 모델의 확신도(confidence)를 나타냄.\n",
    "print(output[0])\n",
    "# output은 정규화되지 않았으므로, 확률화하기 위해 softmax 함수를 처리\n",
    "probabilities = torch.nn.functional.softmax(output[0], dim=0)\n",
    "print(probabilities)"
   ]
  },
  {
   "cell_type": "code",
   "execution_count": null,
   "id": "925dce49",
   "metadata": {},
   "outputs": [],
   "source": [
    "# ImageNet 데이터셋 레이블 다운로드\n",
    "!wget https://raw.githubusercontent.com/pytorch/hub/master/imagenet_classes.txt"
   ]
  },
  {
   "cell_type": "code",
   "execution_count": null,
   "id": "3406745f",
   "metadata": {},
   "outputs": [],
   "source": [
    "# 카테고리(클래스) 읽기\n",
    "with open(\"imagenet_classes.txt\", \"r\") as f:\n",
    "    categories = [s.strip() for s in f.readlines()]\n",
    "\n",
    "# 각 이미지에 대한 top 5 카테고리 출력\n",
    "top5_prob, top5_catid = torch.topk(probabilities, 5)\n",
    "\n",
    "for i in range(top5_prob.size(0)):\n",
    "    print(categories[top5_catid[i]], top5_prob[i].item())"
   ]
  },
  {
   "cell_type": "markdown",
   "id": "adc566ed",
   "metadata": {},
   "source": [
    "### 모델 설명\n",
    "\n",
    "Resnext 모델은 논문 [Aggregated Residual Transformations for Deep Neural Networks]에서 제안되었습니다. (https://arxiv.org/abs/1611.05431).\n",
    "여기서는 50개의 계층과 101개의 계층을 가지는 2개의 resnet 모델을 제공하고 있습니다.\n",
    "resnet50과 resnext50의 아키텍처 차이는 논문의 Table 1을 참고하십시오.\n",
    "ImageNet 데이터셋에 대한 사전훈련된 모델의 에러(성능)은 아래 표와 같습니다.\n",
    "\n",
    "| 모델 구조 | Top-1 오류 | Top-5 오류 |\n",
    "| ----------------- | ----------- | ----------- |\n",
    "|  resnext50_32x4d  | 22.38       | 6.30        |\n",
    "|  resnext101_32x8d | 20.69       | 5.47        |\n",
    "\n",
    "### 참고문헌\n",
    "\n",
    " - [Aggregated Residual Transformations for Deep Neural Networks](https://arxiv.org/abs/1611.05431)"
   ]
  }
 ],
 "metadata": {},
 "nbformat": 4,
 "nbformat_minor": 5
}
